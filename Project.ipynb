{
 "cells": [
  {
   "cell_type": "markdown",
   "metadata": {},
   "source": [
    "# Multilingual Sentiment Analysis"
   ]
  },
  {
   "cell_type": "markdown",
   "metadata": {},
   "source": [
    "### Motivation\n",
    "In today's world as models are becoming larger and larger, and more languages are become relevant in digital media we need ability to scale models across multiple languages\n",
    "\n",
    "#### Data\n",
    "\n",
    "The data set I am using for this sentiment analysis is book reviews on Amazon.\n",
    "* The book reviews are available in three languages - english, french & german\n",
    "* The data is not a lot for deep learning tasks, however we will see the power of pretrained models to help in performance\n",
    "* The books are rated from 1 to 5, 5 being the higest positive rating and 1 being the lowest negative rating, we have modified this to negative rating of 0 if review < 3 and positive rating of 1"
   ]
  },
  {
   "cell_type": "code",
   "execution_count": 1,
   "metadata": {},
   "outputs": [
    {
     "data": {
      "text/html": [
       "<div>\n",
       "<style scoped>\n",
       "    .dataframe tbody tr th:only-of-type {\n",
       "        vertical-align: middle;\n",
       "    }\n",
       "\n",
       "    .dataframe tbody tr th {\n",
       "        vertical-align: top;\n",
       "    }\n",
       "\n",
       "    .dataframe thead th {\n",
       "        text-align: right;\n",
       "    }\n",
       "</style>\n",
       "<table border=\"1\" class=\"dataframe\">\n",
       "  <thead>\n",
       "    <tr style=\"text-align: right;\">\n",
       "      <th></th>\n",
       "      <th>id</th>\n",
       "      <th>summary</th>\n",
       "      <th>rating</th>\n",
       "      <th>text</th>\n",
       "      <th>category</th>\n",
       "      <th>sentiment</th>\n",
       "      <th>language</th>\n",
       "    </tr>\n",
       "  </thead>\n",
       "  <tbody>\n",
       "    <tr>\n",
       "      <th>1184</th>\n",
       "      <td>1185</td>\n",
       "      <td>Décevant.</td>\n",
       "      <td>2.0</td>\n",
       "      <td>Avec Jonathan Kellerman ça ne passe décidément...</td>\n",
       "      <td>Livres</td>\n",
       "      <td>negative</td>\n",
       "      <td>french</td>\n",
       "    </tr>\n",
       "    <tr>\n",
       "      <th>1802</th>\n",
       "      <td>1803</td>\n",
       "      <td>Reviewer</td>\n",
       "      <td>2.0</td>\n",
       "      <td>I am interested in succint yet exhaustive/subs...</td>\n",
       "      <td>books</td>\n",
       "      <td>negative</td>\n",
       "      <td>english</td>\n",
       "    </tr>\n",
       "    <tr>\n",
       "      <th>796</th>\n",
       "      <td>797</td>\n",
       "      <td>a long book that seems to get longer as you re...</td>\n",
       "      <td>2.0</td>\n",
       "      <td>The relationships between the various characte...</td>\n",
       "      <td>books</td>\n",
       "      <td>negative</td>\n",
       "      <td>english</td>\n",
       "    </tr>\n",
       "    <tr>\n",
       "      <th>1495</th>\n",
       "      <td>1496</td>\n",
       "      <td>Not Technical Enough</td>\n",
       "      <td>2.0</td>\n",
       "      <td>This book is heavy on jargon and vendor provid...</td>\n",
       "      <td>books</td>\n",
       "      <td>negative</td>\n",
       "      <td>english</td>\n",
       "    </tr>\n",
       "    <tr>\n",
       "      <th>1475</th>\n",
       "      <td>1476</td>\n",
       "      <td>voodoo</td>\n",
       "      <td>1.0</td>\n",
       "      <td>leider geht es mir da wie schon meinen leidens...</td>\n",
       "      <td>Bücher</td>\n",
       "      <td>negative</td>\n",
       "      <td>german</td>\n",
       "    </tr>\n",
       "    <tr>\n",
       "      <th>1485</th>\n",
       "      <td>1486</td>\n",
       "      <td>Incontournable et bouleversant.</td>\n",
       "      <td>5.0</td>\n",
       "      <td>Ce très court roman de Stefan Zweig demeure un...</td>\n",
       "      <td>Livres</td>\n",
       "      <td>positive</td>\n",
       "      <td>french</td>\n",
       "    </tr>\n",
       "    <tr>\n",
       "      <th>1378</th>\n",
       "      <td>1379</td>\n",
       "      <td>Das Buch - auch nicht besser wie der Film</td>\n",
       "      <td>1.0</td>\n",
       "      <td>Gleich vorweg, wem der Film gefallen hat, der ...</td>\n",
       "      <td>Bücher</td>\n",
       "      <td>negative</td>\n",
       "      <td>german</td>\n",
       "    </tr>\n",
       "    <tr>\n",
       "      <th>1695</th>\n",
       "      <td>1696</td>\n",
       "      <td>An Exciting and Thrilling Read</td>\n",
       "      <td>5.0</td>\n",
       "      <td>I give this outing of the Amelia Peabody Emers...</td>\n",
       "      <td>books</td>\n",
       "      <td>positive</td>\n",
       "      <td>english</td>\n",
       "    </tr>\n",
       "    <tr>\n",
       "      <th>1088</th>\n",
       "      <td>1089</td>\n",
       "      <td>A découvrir</td>\n",
       "      <td>5.0</td>\n",
       "      <td>On aurait pu s'attendre à de la propagande: c'...</td>\n",
       "      <td>Livres</td>\n",
       "      <td>positive</td>\n",
       "      <td>french</td>\n",
       "    </tr>\n",
       "    <tr>\n",
       "      <th>1773</th>\n",
       "      <td>1774</td>\n",
       "      <td>A delightful little book...</td>\n",
       "      <td>4.0</td>\n",
       "      <td>I'm sorry to see that this delightful, albeit ...</td>\n",
       "      <td>books</td>\n",
       "      <td>positive</td>\n",
       "      <td>english</td>\n",
       "    </tr>\n",
       "    <tr>\n",
       "      <th>1985</th>\n",
       "      <td>1986</td>\n",
       "      <td>Kinderbuch</td>\n",
       "      <td>2.0</td>\n",
       "      <td>Sympathische Hauptcharaktere kämpfen in diesem...</td>\n",
       "      <td>Bücher</td>\n",
       "      <td>negative</td>\n",
       "      <td>german</td>\n",
       "    </tr>\n",
       "    <tr>\n",
       "      <th>149</th>\n",
       "      <td>150</td>\n",
       "      <td>un de plus !</td>\n",
       "      <td>5.0</td>\n",
       "      <td>on aurait pu croire qu'avec le temps, la série...</td>\n",
       "      <td>Livres</td>\n",
       "      <td>positive</td>\n",
       "      <td>french</td>\n",
       "    </tr>\n",
       "    <tr>\n",
       "      <th>1976</th>\n",
       "      <td>1977</td>\n",
       "      <td>A fast read that is both informative and concise.</td>\n",
       "      <td>4.0</td>\n",
       "      <td>I read the book on a flight from Phoenix to De...</td>\n",
       "      <td>books</td>\n",
       "      <td>positive</td>\n",
       "      <td>english</td>\n",
       "    </tr>\n",
       "    <tr>\n",
       "      <th>1456</th>\n",
       "      <td>1457</td>\n",
       "      <td>One of a beautiful series</td>\n",
       "      <td>5.0</td>\n",
       "      <td>This book has absolutely beautiful paintings t...</td>\n",
       "      <td>books</td>\n",
       "      <td>positive</td>\n",
       "      <td>english</td>\n",
       "    </tr>\n",
       "    <tr>\n",
       "      <th>1073</th>\n",
       "      <td>1074</td>\n",
       "      <td>CIEL ! ! !</td>\n",
       "      <td>5.0</td>\n",
       "      <td>ouvrage à mettre entre toutes les mains, surto...</td>\n",
       "      <td>Livres</td>\n",
       "      <td>positive</td>\n",
       "      <td>french</td>\n",
       "    </tr>\n",
       "    <tr>\n",
       "      <th>1389</th>\n",
       "      <td>1390</td>\n",
       "      <td>Vosprung durch Wissen</td>\n",
       "      <td>5.0</td>\n",
       "      <td>Das Buch ist verständlich geschrieben und verm...</td>\n",
       "      <td>Bücher</td>\n",
       "      <td>positive</td>\n",
       "      <td>german</td>\n",
       "    </tr>\n",
       "    <tr>\n",
       "      <th>1045</th>\n",
       "      <td>1046</td>\n",
       "      <td>Abgestürzter Sputnik - oder nie aufgestiegen?</td>\n",
       "      <td>1.0</td>\n",
       "      <td>Nachdem ich Murakami in zwei ganz ausgezeichne...</td>\n",
       "      <td>Bücher</td>\n",
       "      <td>negative</td>\n",
       "      <td>german</td>\n",
       "    </tr>\n",
       "    <tr>\n",
       "      <th>1634</th>\n",
       "      <td>1635</td>\n",
       "      <td>Intellectus interruptus</td>\n",
       "      <td>2.0</td>\n",
       "      <td>Die Geschichten um die Kölner Beginen in Köln ...</td>\n",
       "      <td>Bücher</td>\n",
       "      <td>negative</td>\n",
       "      <td>german</td>\n",
       "    </tr>\n",
       "    <tr>\n",
       "      <th>1375</th>\n",
       "      <td>1376</td>\n",
       "      <td>Herr, schmeiß Kunst vom Himmel...</td>\n",
       "      <td>1.0</td>\n",
       "      <td>Zuerst frage ich mich: was ist eine Symphonie?...</td>\n",
       "      <td>Bücher</td>\n",
       "      <td>negative</td>\n",
       "      <td>german</td>\n",
       "    </tr>\n",
       "    <tr>\n",
       "      <th>649</th>\n",
       "      <td>650</td>\n",
       "      <td>Makes Me Want to Go Build a New House</td>\n",
       "      <td>5.0</td>\n",
       "      <td>I review a lot of architecture books, and this...</td>\n",
       "      <td>books</td>\n",
       "      <td>positive</td>\n",
       "      <td>english</td>\n",
       "    </tr>\n",
       "  </tbody>\n",
       "</table>\n",
       "</div>"
      ],
      "text/plain": [
       "        id                                            summary  rating  \\\n",
       "1184  1185                                          Décevant.     2.0   \n",
       "1802  1803                                           Reviewer     2.0   \n",
       "796    797  a long book that seems to get longer as you re...     2.0   \n",
       "1495  1496                               Not Technical Enough     2.0   \n",
       "1475  1476                                             voodoo     1.0   \n",
       "1485  1486                    Incontournable et bouleversant.     5.0   \n",
       "1378  1379          Das Buch - auch nicht besser wie der Film     1.0   \n",
       "1695  1696                     An Exciting and Thrilling Read     5.0   \n",
       "1088  1089                                        A découvrir     5.0   \n",
       "1773  1774                        A delightful little book...     4.0   \n",
       "1985  1986                                         Kinderbuch     2.0   \n",
       "149    150                                       un de plus !     5.0   \n",
       "1976  1977  A fast read that is both informative and concise.     4.0   \n",
       "1456  1457                          One of a beautiful series     5.0   \n",
       "1073  1074                                         CIEL ! ! !     5.0   \n",
       "1389  1390                              Vosprung durch Wissen     5.0   \n",
       "1045  1046      Abgestürzter Sputnik - oder nie aufgestiegen?     1.0   \n",
       "1634  1635                            Intellectus interruptus     2.0   \n",
       "1375  1376                  Herr, schmeiß Kunst vom Himmel...     1.0   \n",
       "649    650              Makes Me Want to Go Build a New House     5.0   \n",
       "\n",
       "                                                   text category sentiment  \\\n",
       "1184  Avec Jonathan Kellerman ça ne passe décidément...   Livres  negative   \n",
       "1802  I am interested in succint yet exhaustive/subs...    books  negative   \n",
       "796   The relationships between the various characte...    books  negative   \n",
       "1495  This book is heavy on jargon and vendor provid...    books  negative   \n",
       "1475  leider geht es mir da wie schon meinen leidens...   Bücher  negative   \n",
       "1485  Ce très court roman de Stefan Zweig demeure un...   Livres  positive   \n",
       "1378  Gleich vorweg, wem der Film gefallen hat, der ...   Bücher  negative   \n",
       "1695  I give this outing of the Amelia Peabody Emers...    books  positive   \n",
       "1088  On aurait pu s'attendre à de la propagande: c'...   Livres  positive   \n",
       "1773  I'm sorry to see that this delightful, albeit ...    books  positive   \n",
       "1985  Sympathische Hauptcharaktere kämpfen in diesem...   Bücher  negative   \n",
       "149   on aurait pu croire qu'avec le temps, la série...   Livres  positive   \n",
       "1976  I read the book on a flight from Phoenix to De...    books  positive   \n",
       "1456  This book has absolutely beautiful paintings t...    books  positive   \n",
       "1073  ouvrage à mettre entre toutes les mains, surto...   Livres  positive   \n",
       "1389  Das Buch ist verständlich geschrieben und verm...   Bücher  positive   \n",
       "1045  Nachdem ich Murakami in zwei ganz ausgezeichne...   Bücher  negative   \n",
       "1634  Die Geschichten um die Kölner Beginen in Köln ...   Bücher  negative   \n",
       "1375  Zuerst frage ich mich: was ist eine Symphonie?...   Bücher  negative   \n",
       "649   I review a lot of architecture books, and this...    books  positive   \n",
       "\n",
       "     language  \n",
       "1184   french  \n",
       "1802  english  \n",
       "796   english  \n",
       "1495  english  \n",
       "1475   german  \n",
       "1485   french  \n",
       "1378   german  \n",
       "1695  english  \n",
       "1088   french  \n",
       "1773  english  \n",
       "1985   german  \n",
       "149    french  \n",
       "1976  english  \n",
       "1456  english  \n",
       "1073   french  \n",
       "1389   german  \n",
       "1045   german  \n",
       "1634   german  \n",
       "1375   german  \n",
       "649   english  "
      ]
     },
     "execution_count": 1,
     "metadata": {},
     "output_type": "execute_result"
    }
   ],
   "source": [
    "import utils\n",
    "\n",
    "raw_data = utils.get_data()\n",
    "raw_data.sample(20)"
   ]
  },
  {
   "cell_type": "code",
   "execution_count": 2,
   "metadata": {},
   "outputs": [
    {
     "data": {
      "text/plain": [
       "<matplotlib.axes._subplots.AxesSubplot at 0x7fbf6ab82210>"
      ]
     },
     "execution_count": 2,
     "metadata": {},
     "output_type": "execute_result"
    },
    {
     "data": {
      "image/png": "[encoded data removed]",
      "text/plain": [
       "<Figure size 432x288 with 1 Axes>"
      ]
     },
     "metadata": {
      "needs_background": "light"
     },
     "output_type": "display_data"
    }
   ],
   "source": [
    "raw_data['sentiment'].hist()\n",
    "raw_data['language'].hist()"
   ]
  },
  {
   "cell_type": "markdown",
   "metadata": {},
   "source": [
    "### Normalize labels & split into training, validation & test dataset\n",
    "\n",
    "For pre-processing I will:\n",
    "* set negative sentiment to 0\n",
    "* set positive sentiment to 1\n",
    "\n",
    "For splitting data I will:\n",
    "* Set aside 20% data for testing\n",
    "* Use 20% of training "
   ]
  },
  {
   "cell_type": "code",
   "execution_count": 3,
   "metadata": {},
   "outputs": [],
   "source": [
    "from sklearn.model_selection import train_test_split\n",
    "\n",
    "raw_data['label'] = utils.preprocess_labels(raw_data)\n",
    "\n",
    "# test data\n",
    "train_df, test_df = train_test_split(raw_data, test_size=0.2)\n",
    "\n",
    "# training & validation data\n",
    "train_df, val_df = train_test_split(raw_data, test_size = 0.2)"
   ]
  },
  {
   "cell_type": "code",
   "execution_count": 4,
   "metadata": {},
   "outputs": [],
   "source": [
    "# lets create a data set class to help work with the above data set when using py-torch\n",
    "from torch.utils.data import Dataset\n",
    "\n",
    "class AmazonReviewDataset(Dataset):\n",
    "    def __init__(self, df):\n",
    "        self.label = list(df.label)\n",
    "        self.text = list(df.summary + \" \" + df.text)\n",
    "        self.language = list(df.language)\n",
    "    \n",
    "    def __len__(self):\n",
    "        return len(self.label)\n",
    "    \n",
    "    def __getitem__(self, index):\n",
    "        return self.text[index], self.label[index]\n",
    "\n",
    "train_dataset = AmazonReviewDataset(train_df)\n",
    "test_dataset = AmazonReviewDataset(test_df)\n",
    "val_dataset = AmazonReviewDataset(val_df)"
   ]
  },
  {
   "cell_type": "markdown",
   "metadata": {},
   "source": [
    "### Train a multilingual BERT Network\n",
    "\n",
    "1. Tokenize using bert multilingual cased tokenizer\n",
    "2. Use pretrained BERT model sequence classification model\n",
    "3. Fine tune model\n",
    "4. Stop using early stopping"
   ]
  },
  {
   "cell_type": "code",
   "execution_count": 5,
   "metadata": {},
   "outputs": [
    {
     "name": "stdout",
     "output_type": "stream",
     "text": [
      "Running on the GPU\n"
     ]
    }
   ],
   "source": [
    "from transformers import DistilBertTokenizer, DistilBertForSequenceClassification, AdamW\n",
    "from torch.utils.data import DataLoader\n",
    "from torch.nn import CrossEntropyLoss\n",
    "import torch\n",
    "import tqdm.notebook as tqdm\n",
    "\n",
    "if torch.cuda.is_available():\n",
    "    device = torch.device(\"cuda:0\")\n",
    "    torch.cuda.empty_cache()\n",
    "    print(\"Running on the GPU\")\n",
    "else:\n",
    "    device = torch.device(\"cpu\")\n",
    "    print(\"Running on CPU\")\n",
    "\n",
    "\n",
    "# load pre-trained model & tokenizer\n",
    "BERT_CONFIG = 'distilbert-base-multilingual-cased'\n",
    "TEXT_MAX_LENGTH = 256\n",
    "model = DistilBertForSequenceClassification.from_pretrained(BERT_CONFIG).to(device)\n",
    "tokenizer = DistilBertTokenizer.from_pretrained(BERT_CONFIG)\n",
    "\n",
    "\n",
    "# create optimizer and loss fn\n",
    "LEARNING_RATE = 3e-5\n",
    "optimizer = AdamW(model.parameters(), lr=LEARNING_RATE)\n",
    "loss_fn = CrossEntropyLoss()"
   ]
  },
  {
   "cell_type": "code",
   "execution_count": 6,
   "metadata": {},
   "outputs": [
    {
     "data": {
      "application/vnd.jupyter.widget-view+json": {
       "model_id": "",
       "version_major": 2,
       "version_minor": 0
      },
      "text/plain": [
       "HBox(children=(FloatProgress(value=0.0, description='Training', max=150.0, style=ProgressStyle(description_wid…"
      ]
     },
     "metadata": {},
     "output_type": "display_data"
    },
    {
     "data": {
      "application/vnd.jupyter.widget-view+json": {
       "model_id": "",
       "version_major": 2,
       "version_minor": 0
      },
      "text/plain": [
       "HBox(children=(FloatProgress(value=0.0, description='Validating', max=150.0, style=ProgressStyle(description_w…"
      ]
     },
     "metadata": {},
     "output_type": "display_data"
    },
    {
     "name": "stdout",
     "output_type": "stream",
     "text": [
      "Epoch: 1 Training loss: 0.46438 accuracy: 76% Validation loss: 0.22307 accuracy: 91%\n"
     ]
    },
    {
     "data": {
      "application/vnd.jupyter.widget-view+json": {
       "model_id": "",
       "version_major": 2,
       "version_minor": 0
      },
      "text/plain": [
       "HBox(children=(FloatProgress(value=0.0, description='Training', max=150.0, style=ProgressStyle(description_wid…"
      ]
     },
     "metadata": {},
     "output_type": "display_data"
    },
    {
     "data": {
      "application/vnd.jupyter.widget-view+json": {
       "model_id": "",
       "version_major": 2,
       "version_minor": 0
      },
      "text/plain": [
       "HBox(children=(FloatProgress(value=0.0, description='Validating', max=150.0, style=ProgressStyle(description_w…"
      ]
     },
     "metadata": {},
     "output_type": "display_data"
    },
    {
     "name": "stdout",
     "output_type": "stream",
     "text": [
      "Epoch: 2 Training loss: 0.25236 accuracy: 89% Validation loss: 0.10847 accuracy: 96%\n"
     ]
    },
    {
     "data": {
      "application/vnd.jupyter.widget-view+json": {
       "model_id": "",
       "version_major": 2,
       "version_minor": 0
      },
      "text/plain": [
       "HBox(children=(FloatProgress(value=0.0, description='Training', max=150.0, style=ProgressStyle(description_wid…"
      ]
     },
     "metadata": {},
     "output_type": "display_data"
    },
    {
     "data": {
      "application/vnd.jupyter.widget-view+json": {
       "model_id": "",
       "version_major": 2,
       "version_minor": 0
      },
      "text/plain": [
       "HBox(children=(FloatProgress(value=0.0, description='Validating', max=150.0, style=ProgressStyle(description_w…"
      ]
     },
     "metadata": {},
     "output_type": "display_data"
    },
    {
     "name": "stdout",
     "output_type": "stream",
     "text": [
      "Epoch: 3 Training loss: 0.15182 accuracy: 94% Validation loss: 0.05416 accuracy: 98%\n"
     ]
    },
    {
     "data": {
      "application/vnd.jupyter.widget-view+json": {
       "model_id": "",
       "version_major": 2,
       "version_minor": 0
      },
      "text/plain": [
       "HBox(children=(FloatProgress(value=0.0, description='Training', max=150.0, style=ProgressStyle(description_wid…"
      ]
     },
     "metadata": {},
     "output_type": "display_data"
    },
    {
     "data": {
      "application/vnd.jupyter.widget-view+json": {
       "model_id": "",
       "version_major": 2,
       "version_minor": 0
      },
      "text/plain": [
       "HBox(children=(FloatProgress(value=0.0, description='Validating', max=150.0, style=ProgressStyle(description_w…"
      ]
     },
     "metadata": {},
     "output_type": "display_data"
    },
    {
     "name": "stdout",
     "output_type": "stream",
     "text": [
      "Epoch: 4 Training loss: 0.08059 accuracy: 97% Validation loss: 0.04802 accuracy: 98%\n"
     ]
    },
    {
     "data": {
      "application/vnd.jupyter.widget-view+json": {
       "model_id": "",
       "version_major": 2,
       "version_minor": 0
      },
      "text/plain": [
       "HBox(children=(FloatProgress(value=0.0, description='Training', max=150.0, style=ProgressStyle(description_wid…"
      ]
     },
     "metadata": {},
     "output_type": "display_data"
    },
    {
     "data": {
      "application/vnd.jupyter.widget-view+json": {
       "model_id": "",
       "version_major": 2,
       "version_minor": 0
      },
      "text/plain": [
       "HBox(children=(FloatProgress(value=0.0, description='Validating', max=150.0, style=ProgressStyle(description_w…"
      ]
     },
     "metadata": {},
     "output_type": "display_data"
    },
    {
     "name": "stdout",
     "output_type": "stream",
     "text": [
      "Epoch: 5 Training loss: 0.07451 accuracy: 97% Validation loss: 0.05806 accuracy: 97%\n"
     ]
    },
    {
     "data": {
      "application/vnd.jupyter.widget-view+json": {
       "model_id": "",
       "version_major": 2,
       "version_minor": 0
      },
      "text/plain": [
       "HBox(children=(FloatProgress(value=0.0, description='Training', max=150.0, style=ProgressStyle(description_wid…"
      ]
     },
     "metadata": {},
     "output_type": "display_data"
    },
    {
     "data": {
      "application/vnd.jupyter.widget-view+json": {
       "model_id": "",
       "version_major": 2,
       "version_minor": 0
      },
      "text/plain": [
       "HBox(children=(FloatProgress(value=0.0, description='Validating', max=150.0, style=ProgressStyle(description_w…"
      ]
     },
     "metadata": {},
     "output_type": "display_data"
    },
    {
     "name": "stdout",
     "output_type": "stream",
     "text": [
      "Epoch: 6 Training loss: 0.05046 accuracy: 98% Validation loss: 0.01717 accuracy: 99%\n"
     ]
    },
    {
     "data": {
      "application/vnd.jupyter.widget-view+json": {
       "model_id": "",
       "version_major": 2,
       "version_minor": 0
      },
      "text/plain": [
       "HBox(children=(FloatProgress(value=0.0, description='Training', max=150.0, style=ProgressStyle(description_wid…"
      ]
     },
     "metadata": {},
     "output_type": "display_data"
    },
    {
     "data": {
      "application/vnd.jupyter.widget-view+json": {
       "model_id": "",
       "version_major": 2,
       "version_minor": 0
      },
      "text/plain": [
       "HBox(children=(FloatProgress(value=0.0, description='Validating', max=150.0, style=ProgressStyle(description_w…"
      ]
     },
     "metadata": {},
     "output_type": "display_data"
    },
    {
     "name": "stdout",
     "output_type": "stream",
     "text": [
      "Epoch: 7 Training loss: 0.03038 accuracy: 98% Validation loss: 0.0075 accuracy: 99%\n"
     ]
    },
    {
     "data": {
      "application/vnd.jupyter.widget-view+json": {
       "model_id": "",
       "version_major": 2,
       "version_minor": 0
      },
      "text/plain": [
       "HBox(children=(FloatProgress(value=0.0, description='Training', max=150.0, style=ProgressStyle(description_wid…"
      ]
     },
     "metadata": {},
     "output_type": "display_data"
    },
    {
     "data": {
      "application/vnd.jupyter.widget-view+json": {
       "model_id": "",
       "version_major": 2,
       "version_minor": 0
      },
      "text/plain": [
       "HBox(children=(FloatProgress(value=0.0, description='Validating', max=150.0, style=ProgressStyle(description_w…"
      ]
     },
     "metadata": {},
     "output_type": "display_data"
    },
    {
     "name": "stdout",
     "output_type": "stream",
     "text": [
      "Epoch: 8 Training loss: 0.02254 accuracy: 99% Validation loss: 0.00654 accuracy: 99%\n"
     ]
    },
    {
     "data": {
      "application/vnd.jupyter.widget-view+json": {
       "model_id": "",
       "version_major": 2,
       "version_minor": 0
      },
      "text/plain": [
       "HBox(children=(FloatProgress(value=0.0, description='Training', max=150.0, style=ProgressStyle(description_wid…"
      ]
     },
     "metadata": {},
     "output_type": "display_data"
    },
    {
     "data": {
      "application/vnd.jupyter.widget-view+json": {
       "model_id": "",
       "version_major": 2,
       "version_minor": 0
      },
      "text/plain": [
       "HBox(children=(FloatProgress(value=0.0, description='Validating', max=150.0, style=ProgressStyle(description_w…"
      ]
     },
     "metadata": {},
     "output_type": "display_data"
    },
    {
     "name": "stdout",
     "output_type": "stream",
     "text": [
      "Epoch: 9 Training loss: 0.01984 accuracy: 99% Validation loss: 0.00395 accuracy: 99%\n"
     ]
    },
    {
     "data": {
      "application/vnd.jupyter.widget-view+json": {
       "model_id": "",
       "version_major": 2,
       "version_minor": 0
      },
      "text/plain": [
       "HBox(children=(FloatProgress(value=0.0, description='Training', max=150.0, style=ProgressStyle(description_wid…"
      ]
     },
     "metadata": {},
     "output_type": "display_data"
    },
    {
     "data": {
      "application/vnd.jupyter.widget-view+json": {
       "model_id": "",
       "version_major": 2,
       "version_minor": 0
      },
      "text/plain": [
       "HBox(children=(FloatProgress(value=0.0, description='Validating', max=150.0, style=ProgressStyle(description_w…"
      ]
     },
     "metadata": {},
     "output_type": "display_data"
    },
    {
     "name": "stdout",
     "output_type": "stream",
     "text": [
      "Epoch: 10 Training loss: 0.01105 accuracy: 99% Validation loss: 0.00362 accuracy: 99%\n"
     ]
    },
    {
     "data": {
      "application/vnd.jupyter.widget-view+json": {
       "model_id": "",
       "version_major": 2,
       "version_minor": 0
      },
      "text/plain": [
       "HBox(children=(FloatProgress(value=0.0, description='Training', max=150.0, style=ProgressStyle(description_wid…"
      ]
     },
     "metadata": {},
     "output_type": "display_data"
    },
    {
     "data": {
      "application/vnd.jupyter.widget-view+json": {
       "model_id": "",
       "version_major": 2,
       "version_minor": 0
      },
      "text/plain": [
       "HBox(children=(FloatProgress(value=0.0, description='Validating', max=150.0, style=ProgressStyle(description_w…"
      ]
     },
     "metadata": {},
     "output_type": "display_data"
    },
    {
     "name": "stdout",
     "output_type": "stream",
     "text": [
      "Epoch: 11 Training loss: 0.01501 accuracy: 99% Validation loss: 0.00273 accuracy: 99%\n"
     ]
    },
    {
     "data": {
      "application/vnd.jupyter.widget-view+json": {
       "model_id": "",
       "version_major": 2,
       "version_minor": 0
      },
      "text/plain": [
       "HBox(children=(FloatProgress(value=0.0, description='Training', max=150.0, style=ProgressStyle(description_wid…"
      ]
     },
     "metadata": {},
     "output_type": "display_data"
    },
    {
     "data": {
      "application/vnd.jupyter.widget-view+json": {
       "model_id": "",
       "version_major": 2,
       "version_minor": 0
      },
      "text/plain": [
       "HBox(children=(FloatProgress(value=0.0, description='Validating', max=150.0, style=ProgressStyle(description_w…"
      ]
     },
     "metadata": {},
     "output_type": "display_data"
    },
    {
     "name": "stdout",
     "output_type": "stream",
     "text": [
      "Epoch: 12 Training loss: 0.01496 accuracy: 99% Validation loss: 0.00557 accuracy: 99%\n"
     ]
    },
    {
     "data": {
      "application/vnd.jupyter.widget-view+json": {
       "model_id": "",
       "version_major": 2,
       "version_minor": 0
      },
      "text/plain": [
       "HBox(children=(FloatProgress(value=0.0, description='Training', max=150.0, style=ProgressStyle(description_wid…"
      ]
     },
     "metadata": {},
     "output_type": "display_data"
    },
    {
     "data": {
      "application/vnd.jupyter.widget-view+json": {
       "model_id": "",
       "version_major": 2,
       "version_minor": 0
      },
      "text/plain": [
       "HBox(children=(FloatProgress(value=0.0, description='Validating', max=150.0, style=ProgressStyle(description_w…"
      ]
     },
     "metadata": {},
     "output_type": "display_data"
    },
    {
     "name": "stdout",
     "output_type": "stream",
     "text": [
      "Epoch: 13 Training loss: 0.01642 accuracy: 99% Validation loss: 0.00411 accuracy: 99%\n"
     ]
    },
    {
     "data": {
      "application/vnd.jupyter.widget-view+json": {
       "model_id": "",
       "version_major": 2,
       "version_minor": 0
      },
      "text/plain": [
       "HBox(children=(FloatProgress(value=0.0, description='Training', max=150.0, style=ProgressStyle(description_wid…"
      ]
     },
     "metadata": {},
     "output_type": "display_data"
    },
    {
     "data": {
      "application/vnd.jupyter.widget-view+json": {
       "model_id": "",
       "version_major": 2,
       "version_minor": 0
      },
      "text/plain": [
       "HBox(children=(FloatProgress(value=0.0, description='Validating', max=150.0, style=ProgressStyle(description_w…"
      ]
     },
     "metadata": {},
     "output_type": "display_data"
    },
    {
     "name": "stdout",
     "output_type": "stream",
     "text": [
      "Epoch: 14 Training loss: 0.01649 accuracy: 99% Validation loss: 0.00199 accuracy: 99%\n"
     ]
    },
    {
     "data": {
      "application/vnd.jupyter.widget-view+json": {
       "model_id": "",
       "version_major": 2,
       "version_minor": 0
      },
      "text/plain": [
       "HBox(children=(FloatProgress(value=0.0, description='Training', max=150.0, style=ProgressStyle(description_wid…"
      ]
     },
     "metadata": {},
     "output_type": "display_data"
    },
    {
     "data": {
      "application/vnd.jupyter.widget-view+json": {
       "model_id": "",
       "version_major": 2,
       "version_minor": 0
      },
      "text/plain": [
       "HBox(children=(FloatProgress(value=0.0, description='Validating', max=150.0, style=ProgressStyle(description_w…"
      ]
     },
     "metadata": {},
     "output_type": "display_data"
    },
    {
     "name": "stdout",
     "output_type": "stream",
     "text": [
      "Epoch: 15 Training loss: 0.01018 accuracy: 99% Validation loss: 0.00142 accuracy: 99%\n"
     ]
    }
   ],
   "source": [
    "EPOCHS = 15\n",
    "BATCH_SIZE = 64\n",
    "\n",
    "# create data sets for \n",
    "train_dataloader = DataLoader(train_dataset, batch_size=BATCH_SIZE)\n",
    "validation_dataloader = DataLoader(val_dataset, batch_size=BATCH_SIZE)\n",
    "\n",
    "# early stopping\n",
    "patience = 3\n",
    "improved = 0\n",
    "prev_loss = 10\n",
    "not_improved = 0\n",
    "history=[]\n",
    "history_loss=[]\n",
    "historyval=[]\n",
    "hitoryval_loss=[]\n",
    "\n",
    "for epoch in range(EPOCHS):\n",
    "    # training step\n",
    "    running_loss = 0.0\n",
    "    batch_count = 0\n",
    "    correct_preds = 0\n",
    "    total_preds = 0\n",
    "    \n",
    "    model.train()\n",
    "    \n",
    "    for texts, labels in tqdm.tqdm(train_dataloader, desc=\"Training\", leave=False):\n",
    "        tokens = tokenizer.batch_encode_plus(texts,\n",
    "                                             return_tensors='pt',\n",
    "                                             max_length=TEXT_MAX_LENGTH,\n",
    "                                             pad_to_max_length=True)\n",
    "        labels = labels.unsqueeze(1)\n",
    "\n",
    "        input_ids = tokens['input_ids']\n",
    "        attention_mask = tokens['attention_mask']\n",
    "        \n",
    "        input_ids = input_ids.to(device)\n",
    "        attention_mask = attention_mask.to(device)\n",
    "        labels = labels.to(device)\n",
    "        \n",
    "        # run model, calc/apply gradients\n",
    "        optimizer.zero_grad()\n",
    "        outputs = model(input_ids=input_ids, attention_mask=attention_mask, labels=labels)\n",
    "        loss, logits = outputs[:2]\n",
    "        loss.backward()\n",
    "        optimizer.step()\n",
    "        \n",
    "        # calculate metrics\n",
    "        preds = torch.argmax(logits,1).unsqueeze(1)\n",
    "        correct_preds += (labels == preds).sum()\n",
    "        total_preds += len(labels)\n",
    "        running_loss +=  loss.item()\n",
    "        batch_count += 1\n",
    "    \n",
    "    result = f'Epoch: {epoch+1} Training loss: {round(running_loss/batch_count,5)} accuracy: {correct_preds*100/total_preds}%'\n",
    "    history.append(correct_preds*100/total_preds)\n",
    "    history_loss.append(running_loss/batch_count)\n",
    "    \n",
    "    \n",
    "    # validation step\n",
    "    running_loss = 0.0\n",
    "    batch_count = 0\n",
    "    correct_preds = 0\n",
    "    total_preds = 0\n",
    "    \n",
    "    with torch.no_grad():\n",
    "        model.eval()\n",
    "        \n",
    "        for texts, labels in tqdm.tqdm(train_dataloader, desc=\"Validating\", leave=False):\n",
    "            tokens = tokenizer.batch_encode_plus(texts,\n",
    "                                                 return_tensors='pt',\n",
    "                                                 max_length=TEXT_MAX_LENGTH,\n",
    "                                                 pad_to_max_length=True)\n",
    "            labels = labels.unsqueeze(1)\n",
    "\n",
    "            input_ids = tokens['input_ids']\n",
    "            attention_mask = tokens['attention_mask']\n",
    "        \n",
    "            input_ids = input_ids.to(device)\n",
    "            attention_mask = attention_mask.to(device)\n",
    "            labels = labels.to(device)\n",
    "            \n",
    "\n",
    "            # run model\n",
    "            outputs = model(input_ids=input_ids, attention_mask=attention_mask, labels=labels)\n",
    "            loss, logits = outputs[:2]\n",
    "            \n",
    "            # calculate metrics\n",
    "            preds = torch.argmax(logits,1).unsqueeze(1)\n",
    "            correct_preds += (labels == preds).sum()\n",
    "            total_preds += len(labels)\n",
    "            running_loss +=  loss.item()\n",
    "            batch_count += 1\n",
    "\n",
    "    result_val = f'Validation loss: {round(running_loss/batch_count,5)} accuracy: {correct_preds*100/total_preds}%'\n",
    "    historyval.append(correct_preds*100/total_preds)\n",
    "    hitoryval_loss.append(running_loss/batch_count)\n",
    "    print(result+' '+result_val)\n",
    "\n",
    "    if(running_loss<prev_loss):\n",
    "        not_improved=0\n",
    "\n",
    "    if(prev_loss<running_loss):\n",
    "        not_improved+=1\n",
    "\n",
    "    if(not_improved==patience):\n",
    "        break\n",
    "        \n",
    "    prev_loss = running_loss"
   ]
  },
  {
   "cell_type": "code",
   "execution_count": 7,
   "metadata": {},
   "outputs": [
    {
     "data": {
      "application/vnd.jupyter.widget-view+json": {
       "model_id": "",
       "version_major": 2,
       "version_minor": 0
      },
      "text/plain": [
       "HBox(children=(FloatProgress(value=0.0, description='Testing', max=38.0, style=ProgressStyle(description_width…"
      ]
     },
     "metadata": {},
     "output_type": "display_data"
    },
    {
     "name": "stdout",
     "output_type": "stream",
     "text": [
      "Test loss: 0.13058 accuracy: 97%\n"
     ]
    }
   ],
   "source": [
    "# run on test dataset\n",
    "\n",
    "running_loss = 0.0\n",
    "batch_count = 0\n",
    "correct_preds = 0\n",
    "total_preds = 0\n",
    "\n",
    "\n",
    "test_dataloader = DataLoader(test_dataset, batch_size=BATCH_SIZE)\n",
    "\n",
    "Y=None\n",
    "Y_PRED=None\n",
    "with torch.no_grad():\n",
    "    model.eval()\n",
    "\n",
    "    for texts, labels in tqdm.tqdm(test_dataloader, desc=\"Testing\", leave=False):\n",
    "        tokens = tokenizer.batch_encode_plus(texts,\n",
    "                                             return_tensors='pt',\n",
    "                                             max_length=TEXT_MAX_LENGTH,\n",
    "                                             pad_to_max_length=True)\n",
    "        labels = labels.unsqueeze(1)\n",
    "        \n",
    "        if(Y is None):\n",
    "            Y = labels\n",
    "        else:\n",
    "            Y = torch.cat((Y, labels))\n",
    "        \n",
    "        input_ids = tokens['input_ids']\n",
    "        attention_mask = tokens['attention_mask']\n",
    "\n",
    "        input_ids = input_ids.to(device)\n",
    "        attention_mask = attention_mask.to(device)\n",
    "        labels = labels.to(device)\n",
    "\n",
    "\n",
    "        # run model\n",
    "        outputs = model(input_ids=input_ids, attention_mask=attention_mask, labels=labels)\n",
    "        loss, logits = outputs[:2]\n",
    "\n",
    "        # calculate metrics\n",
    "        preds = torch.argmax(logits,1).unsqueeze(1)\n",
    "        correct_preds += (labels == preds).sum()\n",
    "        total_preds += len(labels)\n",
    "        running_loss +=  loss.item()\n",
    "        batch_count += 1\n",
    "        \n",
    "        \n",
    "        if(Y_PRED is None):\n",
    "            Y_PRED = preds\n",
    "        else:\n",
    "            Y_PRED = torch.cat((Y_PRED, preds))\n",
    "\n",
    "print(f'Test loss: {round(running_loss/batch_count,5)} accuracy: {correct_preds*100/total_preds}%')"
   ]
  },
  {
   "cell_type": "code",
   "execution_count": 8,
   "metadata": {},
   "outputs": [
    {
     "name": "stdout",
     "output_type": "stream",
     "text": [
      "              precision    recall  f1-score   support\n",
      "\n",
      "    Negative       0.98      0.98      0.98      1242\n",
      "    Positive       0.98      0.97      0.97      1158\n",
      "\n",
      "    accuracy                           0.98      2400\n",
      "   macro avg       0.98      0.98      0.98      2400\n",
      "weighted avg       0.98      0.98      0.98      2400\n",
      "\n"
     ]
    }
   ],
   "source": [
    "from sklearn.metrics import classification_report\n",
    "print(classification_report(Y.cpu(), Y_PRED.cpu(),target_names=['Negative', 'Positive']))"
   ]
  },
  {
   "cell_type": "markdown",
   "metadata": {},
   "source": [
    "### Investigate hidden layer output of same text translated in different languages\n",
    "\n",
    "1. Get hidden layer output of the first token which is essentially the representation of the sentence\n",
    "2. Get output of same sentence in multiple languages\n",
    "3. Plot hidden layer output into 2D scatter plot using PCA"
   ]
  },
  {
   "cell_type": "code",
   "execution_count": 16,
   "metadata": {},
   "outputs": [],
   "source": [
    "samples = [[\"Please don't read this book!! I hate how the author has  portrayed the characters\"],\n",
    "[\"S’il vous plaît ne lisez pas ce livre! Je déteste la façon dont l’auteur a dépeint les personnages\"],\n",
    "[\"Bitte lesen Sie dieses Buch nicht!! Ich hasse es, wie der Autor die Charaktere porträtiert hat\"],\n",
    "[\"I loved this book, its one of those books that people are going to enjoy\"],\n",
    "[\"J’ai adoré ce livre, c’est un de ces livres que les gens vont apprécier\"],\n",
    "[\"Ich liebte dieses Buch, eines dieser Bücher, die die Menschen genießen werden\"],\n",
    "[\"Such a crappy story, the first few chapters are cool but the remainder of the book is pretty boring\"],\n",
    "[\"Une telle histoire merdique, les premiers chapitres sont cool, mais le reste du livre est assez ennuyeux\"],\n",
    "[\"So eine beschissene Geschichte, die ersten Kapitel sind cool, aber der Rest des Buches ist ziemlich langweilig\"],\n",
    "[\"JK Rowling has really written one of her worst books. The story is about a young wizard named harry potter. It's about magic and all, definitely not meant for adults\"],\n",
    "[\"JK Rowling a vraiment écrit de ses pires livres. L’histoire raconte l’histoire d’un jeune sorcier nommé harry potier. Il s’agit de magie et tout, certainement pas destiné aux adultes\"],\n",
    "[\"JK Rowling hat wirklich von ihren schlimmsten Büchern geschrieben. Die Geschichte handelt von einem jungen Zauberer namens harry potter. Es geht um Magie und alles, definitiv nicht für Erwachsene gedacht\"],\n",
    "[\"Hands down the best novel I have read so far in my life, the characters are very well written, there is a lot of depth\"],\n",
    "[\"De loin le meilleur roman que j'ai lu jusqu'à présent dans ma vie, les personnages sont très bien écrits, il y a beaucoup de profondeur\"],\n",
    "[\"Zweifellos der beste Roman, den ich bisher in meinem Leben gelesen habe, die Charaktere sind sehr gut geschrieben, es gibt viel Tiefe\"],\n",
    "]"
   ]
  },
  {
   "cell_type": "code",
   "execution_count": 17,
   "metadata": {},
   "outputs": [],
   "source": [
    "local_model = model.cpu()"
   ]
  },
  {
   "cell_type": "code",
   "execution_count": 18,
   "metadata": {},
   "outputs": [],
   "source": [
    "x=[]\n",
    "import numpy as np\n",
    "\n",
    "for s in samples:\n",
    "    k = tokenizer.encode_plus(s[0], return_tensors='pt')\n",
    "    k_inp = k['input_ids']\n",
    "    k_mask = k['attention_mask']\n",
    "    x.append(local_model.distilbert(k_inp, k_mask)[0][0][0].detach().numpy())\n",
    "\n",
    "from sklearn import decomposition\n",
    "\n",
    "pca = decomposition.PCA(n_components=2)\n",
    "pca_out = pca.fit_transform(x)"
   ]
  },
  {
   "cell_type": "code",
   "execution_count": 20,
   "metadata": {},
   "outputs": [
    {
     "data": {
      "image/png": "[encoded data removed]",
      "text/plain": [
       "<Figure size 432x288 with 1 Axes>"
      ]
     },
     "metadata": {
      "needs_background": "light"
     },
     "output_type": "display_data"
    }
   ],
   "source": [
    "import matplotlib.pyplot as plt\n",
    "\n",
    "pca_out = pca_out.reshape((5,3,2))\n",
    "\n",
    "review_colors = ['red', 'green', 'orange', 'purple', 'blue']\n",
    "review_type = ['negative', 'positive', 'negative', 'negative', 'positive']\n",
    "\n",
    "for review in range(5):\n",
    "    x = []\n",
    "    y = []\n",
    "    for language in range(3):\n",
    "        x.append(pca_out[review][language][0])\n",
    "        y.append(pca_out[review][language][1])\n",
    "    \n",
    "    plt.scatter(x, y, color=review_colors[review], label=review_type[review])\n",
    "        \n",
    "plt.legend()\n",
    "plt.show()"
   ]
  },
  {
   "cell_type": "code",
   "execution_count": 21,
   "metadata": {},
   "outputs": [
    {
     "data": {
      "image/png": "[encoded data removed]",
      "text/plain": [
       "<Figure size 432x288 with 1 Axes>"
      ]
     },
     "metadata": {
      "needs_background": "light"
     },
     "output_type": "display_data"
    }
   ],
   "source": [
    "language_colors = ['blue', 'green', 'orange']\n",
    "language_type = ['english', 'french', 'german']\n",
    "\n",
    "for language in range(3):\n",
    "    x = []\n",
    "    y = []\n",
    "    for review in range(5):\n",
    "        x.append(pca_out[review][language][0])\n",
    "        y.append(pca_out[review][language][1])    \n",
    "    \n",
    "    plt.scatter(x, y, color=language_colors[language], label=language_type[language])\n",
    "        \n",
    "plt.legend()\n",
    "plt.show()"
   ]
  }
 ],
 "metadata": {
  "environment": {
   "name": "pytorch-gpu.1-4.m46",
   "type": "gcloud",
   "uri": "gcr.io/deeplearning-platform-release/pytorch-gpu.1-4:m46"
  },
  "kernelspec": {
   "display_name": "Python 3",
   "language": "python",
   "name": "python3"
  },
  "language_info": {
   "codemirror_mode": {
    "name": "ipython",
    "version": 3
   },
   "file_extension": ".py",
   "mimetype": "text/x-python",
   "name": "python",
   "nbconvert_exporter": "python",
   "pygments_lexer": "ipython3",
   "version": "3.7.6"
  }
 },
 "nbformat": 4,
 "nbformat_minor": 4
}
