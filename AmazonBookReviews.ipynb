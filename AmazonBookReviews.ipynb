{
 "cells": [
  {
   "cell_type": "markdown",
   "metadata": {},
   "source": [
    "# Prepare data set for Amazon book reviews"
   ]
  },
  {
   "cell_type": "code",
   "execution_count": 1,
   "metadata": {},
   "outputs": [
    {
     "name": "stdout",
     "output_type": "stream",
     "text": [
      "Training data size: 7200\n",
      "Validation data size: 2400\n",
      "Test data size: 2400\n"
     ]
    }
   ],
   "source": [
    "import pandas as pd\n",
    "import xml.etree.ElementTree as et\n",
    "import torch\n",
    "from torch.utils.data import DataLoader, Dataset\n",
    "from sklearn.model_selection import train_test_split\n",
    "from transformers import DistilBertTokenizer, DistilBertModel\n",
    "\n",
    "# bert\n",
    "BERT_CONFIG = 'distilbert-base-multilingual-cased'\n",
    "\n",
    "def parse_XML(xml_file, df_cols): \n",
    "    \"\"\"Parse the input XML file and store the result in a pandas \n",
    "    DataFrame with the given columns. \n",
    "    \n",
    "    The first element of df_cols is supposed to be the identifier \n",
    "    variable, which is an attribute of each node element in the \n",
    "    XML data; other features will be parsed from the text content \n",
    "    of each sub-element. \n",
    "    \"\"\"\n",
    "    \n",
    "    xtree = et.parse(xml_file)\n",
    "    xroot = xtree.getroot()\n",
    "    rows = []\n",
    "    id=1\n",
    "    for node in xroot: \n",
    "        res = []\n",
    "        res.append(id)\n",
    "        id+=1\n",
    "        for el in df_cols[1:]: \n",
    "            if node is not None and node.find(el) is not None:\n",
    "                res.append(node.find(el).text.strip())\n",
    "            else: \n",
    "                res.append(None)\n",
    "        rows.append({df_cols[i]: res[i] \n",
    "                     for i, _ in enumerate(df_cols)})\n",
    "    \n",
    "    out_df = pd.DataFrame(rows, columns=df_cols)\n",
    "    out_df['rating'] = out_df.rating.astype(float)\n",
    "    out_df['norm_rating'] = (out_df['rating']/2 -1.5)/2\n",
    "    return out_df\n",
    "\n",
    "def get_data(file_paths):\n",
    "    df = None\n",
    "    for file_path in file_paths:\n",
    "        if df is None:\n",
    "            df = parse_XML(file_path, ['id', 'summary', 'rating', 'text', 'category'])\n",
    "        else:\n",
    "            df_new = parse_XML(file_path, ['id', 'summary', 'rating', 'text', 'category'])\n",
    "            df = df.append(df_new)\n",
    "    return df\n",
    "\n",
    "\n",
    "# tokenizer\n",
    "tokenizer = DistilBertTokenizer.from_pretrained(BERT_CONFIG)\n",
    "SUMMARY_MAX_LENGTH = 50\n",
    "REVIEW_MAX_LENGTH = 256\n",
    "\n",
    "class AmazonReviewDataset(Dataset):\n",
    "    def __init__(self, df):\n",
    "        self.rating = torch.tensor(list(df.norm_rating), dtype=torch.float)\n",
    "        \n",
    "        text = list(df.text)\n",
    "        summary = list(df.summary)\n",
    "        \n",
    "        self.summary = tokenizer.batch_encode_plus(summary,\n",
    "                                                   return_tensors='pt',\n",
    "                                                   max_length=SUMMARY_MAX_LENGTH,\n",
    "                                                   pad_to_max_length=True)\n",
    "        \n",
    "        self.text = tokenizer.batch_encode_plus(text,\n",
    "                                                return_tensors='pt',\n",
    "                                                max_length=REVIEW_MAX_LENGTH,\n",
    "                                                pad_to_max_length=True)\n",
    "        \n",
    "        \n",
    "    \n",
    "    def __len__(self):\n",
    "        return len(self.rating)\n",
    "    \n",
    "    def __getitem__(self, index):\n",
    "        summary_input_ids = self.summary['input_ids'][index]\n",
    "        summary_attention_mask = self.summary['attention_mask'][index]\n",
    "        text_input_ids = self.text['input_ids'][index]\n",
    "        text_attention_mask = self.text['attention_mask'][index]\n",
    "        rating = self.rating[index]\n",
    "        \n",
    "        return summary_input_ids, summary_attention_mask, text_input_ids, text_attention_mask, rating\n",
    "\n",
    "files = [r'./data/amazon-dataset/english/books/train.review',\n",
    "         r'./data/amazon-dataset/english/books/test.review',\n",
    "         r'./data/amazon-dataset/french/books/train.review',\n",
    "         r'./data/amazon-dataset/french/books/test.review',\n",
    "         r'./data/amazon-dataset/german/books/train.review',\n",
    "         r'./data/amazon-dataset/german/books/test.review']\n",
    "\n",
    "data_frame = get_data(files)\n",
    "\n",
    "# test data\n",
    "train_df, test_df = train_test_split(data_frame, test_size=0.2)\n",
    "\n",
    "# validation data\n",
    "train_df, val_df = train_test_split(train_df, test_size = 0.25)\n",
    "\n",
    "train_dataset = AmazonReviewDataset(train_df)\n",
    "test_dataset = AmazonReviewDataset(test_df)\n",
    "val_dataset = AmazonReviewDataset(val_df)\n",
    "\n",
    "print(f'Training data size: {len(train_dataset)}')\n",
    "print(f'Validation data size: {len(val_dataset)}')\n",
    "print(f'Test data size: {len(test_dataset)}')"
   ]
  },
  {
   "cell_type": "markdown",
   "metadata": {},
   "source": [
    "# Create network using BERT"
   ]
  },
  {
   "cell_type": "code",
   "execution_count": 2,
   "metadata": {},
   "outputs": [
    {
     "name": "stdout",
     "output_type": "stream",
     "text": [
      "Running on the GPU\n"
     ]
    }
   ],
   "source": [
    "BERT_DIM = 768\n",
    "\n",
    "# network\n",
    "OUT_DIM = 1\n",
    "\n",
    "class BookReviewNet(torch.nn.Module):\n",
    "    def __init__(self):\n",
    "        super(BookReviewNet, self).__init__()\n",
    "                        \n",
    "        # bert layers\n",
    "        self.summary_bert_layer = DistilBertModel.from_pretrained(BERT_CONFIG)\n",
    "        self.text_bert_layer = DistilBertModel.from_pretrained(BERT_CONFIG)\n",
    "                \n",
    "        # output layer\n",
    "        self.output_layer = torch.nn.Linear(2*BERT_DIM, OUT_DIM)       \n",
    "    \n",
    "    def forward(self, summary_input_ids, summary_attention_mask, text_input_ids, text_attention_mask):\n",
    "        \n",
    "        # input to bert & get first output of hidden layer, this is your sentence vector\n",
    "        bert_summary_out = self.summary_bert_layer(input_ids = summary_input_ids,\n",
    "                                             attention_mask = summary_attention_mask)[0][:,0,:]\n",
    "        \n",
    "        bert_text_out = self.text_bert_layer(input_ids = text_input_ids,\n",
    "                                       attention_mask = text_attention_mask)[0][:,0,:]\n",
    "                \n",
    "        # concatenate sentence vector for summary and text\n",
    "        bert_out = torch.cat((bert_summary_out, bert_text_out), 1)\n",
    "        \n",
    "        # send to output layer\n",
    "        return self.output_layer(bert_out)\n",
    "\n",
    "if torch.cuda.is_available():\n",
    "    gpu = torch.device(\"cuda:0\")\n",
    "    print(\"Running on the GPU\")\n",
    "\n",
    "cpu = torch.device(\"cpu\")"
   ]
  },
  {
   "cell_type": "code",
   "execution_count": 3,
   "metadata": {},
   "outputs": [
    {
     "name": "stdout",
     "output_type": "stream",
     "text": [
      "Training step\n"
     ]
    },
    {
     "data": {
      "application/vnd.jupyter.widget-view+json": {
       "model_id": "0735f4e340fa481dbd62921fae6a6094",
       "version_major": 2,
       "version_minor": 0
      },
      "text/plain": [
       "HBox(children=(FloatProgress(value=0.0, max=225.0), HTML(value='')))"
      ]
     },
     "metadata": {},
     "output_type": "display_data"
    },
    {
     "name": "stdout",
     "output_type": "stream",
     "text": [
      "\n",
      "Epoch: 0. Training loss: 0.11795898526906967\n",
      "Training step\n"
     ]
    },
    {
     "data": {
      "application/vnd.jupyter.widget-view+json": {
       "model_id": "5be52872324b40beb9492f7ef98f753a",
       "version_major": 2,
       "version_minor": 0
      },
      "text/plain": [
       "HBox(children=(FloatProgress(value=0.0, max=225.0), HTML(value='')))"
      ]
     },
     "metadata": {},
     "output_type": "display_data"
    },
    {
     "name": "stdout",
     "output_type": "stream",
     "text": [
      "\n",
      "Epoch: 1. Training loss: 0.04687095060944557\n",
      "Training step\n"
     ]
    },
    {
     "data": {
      "application/vnd.jupyter.widget-view+json": {
       "model_id": "7160fb1b06c2429aa067dde04608224f",
       "version_major": 2,
       "version_minor": 0
      },
      "text/plain": [
       "HBox(children=(FloatProgress(value=0.0, max=225.0), HTML(value='')))"
      ]
     },
     "metadata": {},
     "output_type": "display_data"
    },
    {
     "name": "stdout",
     "output_type": "stream",
     "text": [
      "\n",
      "Epoch: 2. Training loss: 0.023231398314237595\n",
      "Training step\n"
     ]
    },
    {
     "data": {
      "application/vnd.jupyter.widget-view+json": {
       "model_id": "671786108b4d42c09694989a31edcb4d",
       "version_major": 2,
       "version_minor": 0
      },
      "text/plain": [
       "HBox(children=(FloatProgress(value=0.0, max=225.0), HTML(value='')))"
      ]
     },
     "metadata": {},
     "output_type": "display_data"
    },
    {
     "name": "stdout",
     "output_type": "stream",
     "text": [
      "\n",
      "Epoch: 3. Training loss: 0.01148893404752016\n",
      "Training step\n"
     ]
    },
    {
     "data": {
      "application/vnd.jupyter.widget-view+json": {
       "model_id": "6b4ba0ff31d74f89bf00bd5aeebd0e8b",
       "version_major": 2,
       "version_minor": 0
      },
      "text/plain": [
       "HBox(children=(FloatProgress(value=0.0, max=225.0), HTML(value='')))"
      ]
     },
     "metadata": {},
     "output_type": "display_data"
    },
    {
     "name": "stdout",
     "output_type": "stream",
     "text": [
      "\n",
      "Epoch: 4. Training loss: 0.009056263603270054\n",
      "Training step\n"
     ]
    },
    {
     "data": {
      "application/vnd.jupyter.widget-view+json": {
       "model_id": "e777374f316f423bad242142ea60623a",
       "version_major": 2,
       "version_minor": 0
      },
      "text/plain": [
       "HBox(children=(FloatProgress(value=0.0, max=225.0), HTML(value='')))"
      ]
     },
     "metadata": {},
     "output_type": "display_data"
    },
    {
     "name": "stdout",
     "output_type": "stream",
     "text": [
      "\n",
      "Epoch: 5. Training loss: 0.013540617190301418\n",
      "Training step\n"
     ]
    },
    {
     "data": {
      "application/vnd.jupyter.widget-view+json": {
       "model_id": "8cbccd3370da40d19060dc058627cc02",
       "version_major": 2,
       "version_minor": 0
      },
      "text/plain": [
       "HBox(children=(FloatProgress(value=0.0, max=225.0), HTML(value='')))"
      ]
     },
     "metadata": {},
     "output_type": "display_data"
    },
    {
     "name": "stdout",
     "output_type": "stream",
     "text": [
      "\n",
      "Epoch: 6. Training loss: 0.014276470988988876\n",
      "Training step\n"
     ]
    },
    {
     "data": {
      "application/vnd.jupyter.widget-view+json": {
       "model_id": "8b024af146ce411684258dde3c62e8b4",
       "version_major": 2,
       "version_minor": 0
      },
      "text/plain": [
       "HBox(children=(FloatProgress(value=0.0, max=225.0), HTML(value='')))"
      ]
     },
     "metadata": {},
     "output_type": "display_data"
    },
    {
     "name": "stdout",
     "output_type": "stream",
     "text": [
      "\n",
      "Epoch: 7. Training loss: 0.009773576632142067\n",
      "Training step\n"
     ]
    },
    {
     "data": {
      "application/vnd.jupyter.widget-view+json": {
       "model_id": "3e143fc11a5e482cbf2ed057d5ed7c85",
       "version_major": 2,
       "version_minor": 0
      },
      "text/plain": [
       "HBox(children=(FloatProgress(value=0.0, max=225.0), HTML(value='')))"
      ]
     },
     "metadata": {},
     "output_type": "display_data"
    },
    {
     "name": "stdout",
     "output_type": "stream",
     "text": [
      "\n",
      "Epoch: 8. Training loss: 0.005902943667024374\n",
      "Training step\n"
     ]
    },
    {
     "data": {
      "application/vnd.jupyter.widget-view+json": {
       "model_id": "b6c87dc908bd431bbb9777b02622d0ac",
       "version_major": 2,
       "version_minor": 0
      },
      "text/plain": [
       "HBox(children=(FloatProgress(value=0.0, max=225.0), HTML(value='')))"
      ]
     },
     "metadata": {},
     "output_type": "display_data"
    },
    {
     "name": "stdout",
     "output_type": "stream",
     "text": [
      "\n",
      "Epoch: 9. Training loss: 0.004530345089733601\n"
     ]
    }
   ],
   "source": [
    "import tqdm.notebook as tqdm\n",
    "\n",
    "\n",
    "# training\n",
    "BATCH_SIZE = 32\n",
    "EPOCHS = 10\n",
    "LEARNING_RATE = 3e-5\n",
    "\n",
    "# create network and load it to GPU\n",
    "torch.cuda.empty_cache()\n",
    "net = BookReviewNet().to(gpu)\n",
    "\n",
    "# init optimizer\n",
    "optimizer = torch.optim.Adam(net.parameters(), lr=LEARNING_RATE)\n",
    "loss_function = torch.nn.MSELoss()\n",
    "\n",
    "train_dataloader = DataLoader(train_dataset, batch_size=BATCH_SIZE)\n",
    "val_dataloader = DataLoader(val_dataset, batch_size=1)\n",
    "\n",
    "def train(dataloader, train):\n",
    "    total_loss = 0\n",
    "    n = 0\n",
    "        \n",
    "    for summary_input_ids, summary_attention_mask, text_input_ids, text_attention_mask, rating in tqdm.tqdm(dataloader):\n",
    "\n",
    "        x1 = summary_input_ids.to(gpu)\n",
    "        x2 = summary_attention_mask.to(gpu)\n",
    "        x3 = text_input_ids.to(gpu)\n",
    "        x4 = text_attention_mask.to(gpu)\n",
    "        y = rating.unsqueeze(1).to(gpu)\n",
    "        \n",
    "        y_pred = net(x1, x2, x3 ,x4)\n",
    "        \n",
    "        loss = loss_function(y_pred, y)\n",
    "        \n",
    "        k = len(y)\n",
    "        \n",
    "        total_loss += loss*k\n",
    "        n += k\n",
    "        \n",
    "        if(train):\n",
    "            optimizer.zero_grad()\n",
    "            loss.backward()\n",
    "            optimizer.step()\n",
    "    \n",
    "    return total_loss/n\n",
    "\n",
    "for epoch in range(EPOCHS):\n",
    "    print(\"Training step\")\n",
    "    \n",
    "    train_loss = train(train_dataloader, train=True)\n",
    "\n",
    "    #print(\"Validation step\")\n",
    "    #model = net.to(cpu)\n",
    "    #val_loss = train(model, val_dataloader, train=False)    \n",
    "    \n",
    "    print(f\"Epoch: {epoch}. Training loss: {train_loss}\")#\" Validation loss: {val_loss}\")"
   ]
  },
  {
   "cell_type": "raw",
   "metadata": {},
   "source": [
    "    for summary, text, rating in tqdm.tqdm(dataloader):\n",
    "        \n",
    "        x_summary = tokenizer.batch_encode_plus(summary,\n",
    "                                                return_tensors='pt',\n",
    "                                                max_length=SUMMARY_MAX_LENGTH,\n",
    "                                                pad_to_max_length=True).to(device)\n",
    "        \n",
    "        x_text = tokenizer.batch_encode_plus(text,\n",
    "                                             return_tensors='pt',\n",
    "                                             max_length=REVIEW_MAX_LENGTH,\n",
    "                                             pad_to_max_length=True).to(device)\n",
    "        \n",
    "        y = rating.unsqueeze(1).to(device)\n",
    "        y_pred = net(x_summary, x_text)\n",
    "        \n",
    "        loss = loss_function(y_pred, y)\n",
    "        optimizer.zero_grad()\n",
    "        loss.backward()\n",
    "        optimizer.step()"
   ]
  },
  {
   "cell_type": "code",
   "execution_count": null,
   "metadata": {},
   "outputs": [],
   "source": []
  }
 ],
 "metadata": {
  "environment": {
   "name": "pytorch-gpu.1-4.m46",
   "type": "gcloud",
   "uri": "gcr.io/deeplearning-platform-release/pytorch-gpu.1-4:m46"
  },
  "kernelspec": {
   "display_name": "Python 3",
   "language": "python",
   "name": "python3"
  },
  "language_info": {
   "codemirror_mode": {
    "name": "ipython",
    "version": 3
   },
   "file_extension": ".py",
   "mimetype": "text/x-python",
   "name": "python",
   "nbconvert_exporter": "python",
   "pygments_lexer": "ipython3",
   "version": "3.7.6"
  }
 },
 "nbformat": 4,
 "nbformat_minor": 4
}
