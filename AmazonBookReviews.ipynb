{
 "cells": [
  {
   "cell_type": "markdown",
   "metadata": {},
   "source": [
    "# load dataset into a data frame"
   ]
  },
  {
   "cell_type": "code",
   "execution_count": 1,
   "metadata": {},
   "outputs": [],
   "source": [
    "import pandas as pd\n",
    "import xml.etree.ElementTree as et\n",
    "import torch\n",
    "from torch.utils.data import DataLoader, Dataset\n",
    "\n",
    "def parse_XML(xml_file, df_cols): \n",
    "    \"\"\"Parse the input XML file and store the result in a pandas \n",
    "    DataFrame with the given columns. \n",
    "    \n",
    "    The first element of df_cols is supposed to be the identifier \n",
    "    variable, which is an attribute of each node element in the \n",
    "    XML data; other features will be parsed from the text content \n",
    "    of each sub-element. \n",
    "    \"\"\"\n",
    "    \n",
    "    xtree = et.parse(xml_file)\n",
    "    xroot = xtree.getroot()\n",
    "    rows = []\n",
    "    id=1\n",
    "    for node in xroot: \n",
    "        res = []\n",
    "        res.append(id)\n",
    "        id+=1\n",
    "        for el in df_cols[1:]: \n",
    "            if node is not None and node.find(el) is not None:\n",
    "                res.append(node.find(el).text.strip())\n",
    "            else: \n",
    "                res.append(None)\n",
    "        rows.append({df_cols[i]: res[i] \n",
    "                     for i, _ in enumerate(df_cols)})\n",
    "    \n",
    "    out_df = pd.DataFrame(rows, columns=df_cols)\n",
    "    out_df['rating'] = out_df.rating.astype(float)\n",
    "    out_df['norm_rating'] = out_df['rating']/2 -1.5\n",
    "    return out_df\n",
    "\n",
    "\n",
    "\n",
    "class AmazonReviewDataset(Dataset):\n",
    "    def __init__(self, file_path):\n",
    "        df = parse_XML(file_path, ['id', 'summary', 'rating', 'text', 'category'])\n",
    "        self.rating = list(df.norm_rating)\n",
    "        self.text = list(df.text)\n",
    "        self.summary = list(df.summary)\n",
    "    \n",
    "    def __len__(self):\n",
    "        return len(self.rating)\n",
    "    \n",
    "    def __getitem__(self, index):\n",
    "        return self.summary[index], self.text[index] , self.rating[index]\n",
    "\n",
    "dataset = AmazonReviewDataset(r'./data/amazon-dataset/english/books/train.review')"
   ]
  },
  {
   "cell_type": "markdown",
   "metadata": {},
   "source": [
    "# create a simple regression model"
   ]
  },
  {
   "cell_type": "code",
   "execution_count": 3,
   "metadata": {},
   "outputs": [
    {
     "name": "stdout",
     "output_type": "stream",
     "text": [
      "Running on the GPU\n"
     ]
    }
   ],
   "source": [
    "from transformers import DistilBertTokenizer, DistilBertModel\n",
    "\n",
    "# bert\n",
    "BERT_CONFIG = 'distilbert-base-multilingual-cased'\n",
    "BERT_DIM = 768\n",
    "\n",
    "# network\n",
    "OUT_DIM = 1\n",
    "\n",
    "class BookReviewNet(torch.nn.Module):\n",
    "    def __init__(self):\n",
    "        super(BookReviewNet, self).__init__()\n",
    "                        \n",
    "        # bert layers\n",
    "        self.summary_bert_layer = DistilBertModel.from_pretrained(BERT_CONFIG)\n",
    "        self.text_bert_layer = DistilBertModel.from_pretrained(BERT_CONFIG)\n",
    "                \n",
    "        # output layer\n",
    "        self. = torch.nn.Linear(2*BERT_DIM, OUT_DIM)       \n",
    "    \n",
    "    def forward(self, summary, text):\n",
    "        \n",
    "        # input to bert & get first output of hidden layer, this is your sentence vector\n",
    "        bert_summary_out = self.summary_bert_layer(input_ids = summary['input_ids'],\n",
    "                                             attention_mask = summary['attention_mask'])[0][:,0,:]\n",
    "        \n",
    "        bert_text_out = self.text_bert_layer(input_ids = text['input_ids'],\n",
    "                                       attention_mask = text['attention_mask'])[0][:,0,:]\n",
    "                \n",
    "        # concatenate sentence vector for summary and text\n",
    "        bert_out = torch.cat((x_summary, x_text), 1)\n",
    "        \n",
    "        # send to output layer\n",
    "        return self.output_layer(bert_out)\n",
    "\n",
    "if torch.cuda.is_available():\n",
    "    device = torch.device(\"cuda:0\")\n",
    "    print(\"Running on the GPU\")\n",
    "else:\n",
    "    device = torch.device(\"cpu\")\n",
    "    print(\"Running on the CPU\")\n",
    "    \n",
    "# create network and load it to GPU\n",
    "net = BookReviewNet().to(device)\n",
    "net"
   ]
  },
  {
   "cell_type": "raw",
   "metadata": {},
   "source": [
    "from transformers import DistilBertTokenizer, DistilBertModel\n",
    "\n",
    "    \n",
    "BERT_CONFIG = 'distilbert-base-multilingual-cased'\n",
    "\n",
    "tokenizer = DistilBertTokenizer.from_pretrained(BERT_CONFIG)\n",
    "summary_model = DistilBertModel.from_pretrained(BERT_CONFIG).to(device)\n",
    "review_model = DistilBertModel.from_pretrained(BERT_CONFIG).to(device)\n",
    "output = torch.nn.Linear(1536,1).to(device)\n",
    "\n",
    "dataloader = DataLoader(dataset, batch_size=batch_size)\n",
    "\n",
    "for x_summary, x_review, y in dataloader:\n",
    "    # split summary and review from tuple\n",
    "    # tokenize\n",
    "    \n",
    "    x_summary = tokenizer.batch_encode_plus(x_summary, return_tensors='pt', max_length=SUMMARY_MAX_LENGTH, pad_to_max_length=True).to(device)\n",
    "    x_review = tokenizer.batch_encode_plus(x_review, return_tensors='pt', max_length=REVIEW_MAX_LENGTH, pad_to_max_length=True).to(device)\n",
    "        \n",
    "    # output bert model hidden states , index 0 of output of model is hidden state of which the first hidden state vector represents the sentence vector\n",
    "    summary_hidden_state = summary_model(input_ids=x_summary['input_ids'], attention_mask=x_summary['attention_mask'])[0][:,0,:]\n",
    "    review_hidden_state = review_model(input_ids=x_review['input_ids'], attention_mask=x_review['attention_mask'])[0][:,0,:]\n",
    "    \n",
    "    hidden = torch.cat((summary_hidden_state, review_hidden_state), 1)\n",
    "    \n",
    "    print(output(hidden).shape)\n",
    "    \n",
    "    break"
   ]
  },
  {
   "cell_type": "code",
   "execution_count": 18,
   "metadata": {},
   "outputs": [
    {
     "ename": "UnboundLocalError",
     "evalue": "local variable 'x_summary' referenced before assignment",
     "output_type": "error",
     "traceback": [
      "\u001b[0;31m---------------------------------------------------------------------------\u001b[0m",
      "\u001b[0;31mUnboundLocalError\u001b[0m                         Traceback (most recent call last)",
      "\u001b[0;32m<ipython-input-18-a0bb5b888eab>\u001b[0m in \u001b[0;36m<module>\u001b[0;34m\u001b[0m\n\u001b[1;32m     28\u001b[0m         \u001b[0moptimizer\u001b[0m\u001b[0;34m.\u001b[0m\u001b[0mzero_grad\u001b[0m\u001b[0;34m(\u001b[0m\u001b[0;34m)\u001b[0m\u001b[0;34m\u001b[0m\u001b[0;34m\u001b[0m\u001b[0m\n\u001b[1;32m     29\u001b[0m \u001b[0;34m\u001b[0m\u001b[0m\n\u001b[0;32m---> 30\u001b[0;31m         \u001b[0my_pred\u001b[0m \u001b[0;34m=\u001b[0m \u001b[0mnet\u001b[0m\u001b[0;34m(\u001b[0m\u001b[0mx_summary\u001b[0m\u001b[0;34m,\u001b[0m \u001b[0mx_text\u001b[0m\u001b[0;34m)\u001b[0m\u001b[0;34m\u001b[0m\u001b[0;34m\u001b[0m\u001b[0m\n\u001b[0m\u001b[1;32m     31\u001b[0m \u001b[0;34m\u001b[0m\u001b[0m\n\u001b[1;32m     32\u001b[0m         \u001b[0mprint\u001b[0m\u001b[0;34m(\u001b[0m\u001b[0my\u001b[0m\u001b[0;34m)\u001b[0m\u001b[0;34m\u001b[0m\u001b[0;34m\u001b[0m\u001b[0m\n",
      "\u001b[0;32m/opt/conda/lib/python3.7/site-packages/torch/nn/modules/module.py\u001b[0m in \u001b[0;36m__call__\u001b[0;34m(self, *input, **kwargs)\u001b[0m\n\u001b[1;32m    530\u001b[0m             \u001b[0mresult\u001b[0m \u001b[0;34m=\u001b[0m \u001b[0mself\u001b[0m\u001b[0;34m.\u001b[0m\u001b[0m_slow_forward\u001b[0m\u001b[0;34m(\u001b[0m\u001b[0;34m*\u001b[0m\u001b[0minput\u001b[0m\u001b[0;34m,\u001b[0m \u001b[0;34m**\u001b[0m\u001b[0mkwargs\u001b[0m\u001b[0;34m)\u001b[0m\u001b[0;34m\u001b[0m\u001b[0;34m\u001b[0m\u001b[0m\n\u001b[1;32m    531\u001b[0m         \u001b[0;32melse\u001b[0m\u001b[0;34m:\u001b[0m\u001b[0;34m\u001b[0m\u001b[0;34m\u001b[0m\u001b[0m\n\u001b[0;32m--> 532\u001b[0;31m             \u001b[0mresult\u001b[0m \u001b[0;34m=\u001b[0m \u001b[0mself\u001b[0m\u001b[0;34m.\u001b[0m\u001b[0mforward\u001b[0m\u001b[0;34m(\u001b[0m\u001b[0;34m*\u001b[0m\u001b[0minput\u001b[0m\u001b[0;34m,\u001b[0m \u001b[0;34m**\u001b[0m\u001b[0mkwargs\u001b[0m\u001b[0;34m)\u001b[0m\u001b[0;34m\u001b[0m\u001b[0;34m\u001b[0m\u001b[0m\n\u001b[0m\u001b[1;32m    533\u001b[0m         \u001b[0;32mfor\u001b[0m \u001b[0mhook\u001b[0m \u001b[0;32min\u001b[0m \u001b[0mself\u001b[0m\u001b[0;34m.\u001b[0m\u001b[0m_forward_hooks\u001b[0m\u001b[0;34m.\u001b[0m\u001b[0mvalues\u001b[0m\u001b[0;34m(\u001b[0m\u001b[0;34m)\u001b[0m\u001b[0;34m:\u001b[0m\u001b[0;34m\u001b[0m\u001b[0;34m\u001b[0m\u001b[0m\n\u001b[1;32m    534\u001b[0m             \u001b[0mhook_result\u001b[0m \u001b[0;34m=\u001b[0m \u001b[0mhook\u001b[0m\u001b[0;34m(\u001b[0m\u001b[0mself\u001b[0m\u001b[0;34m,\u001b[0m \u001b[0minput\u001b[0m\u001b[0;34m,\u001b[0m \u001b[0mresult\u001b[0m\u001b[0;34m)\u001b[0m\u001b[0;34m\u001b[0m\u001b[0;34m\u001b[0m\u001b[0m\n",
      "\u001b[0;32m<ipython-input-3-0357bcee0996>\u001b[0m in \u001b[0;36mforward\u001b[0;34m(self, summary, text)\u001b[0m\n\u001b[1;32m     22\u001b[0m \u001b[0;34m\u001b[0m\u001b[0m\n\u001b[1;32m     23\u001b[0m         \u001b[0;31m# input to bert & get first output of hidden layer, this is your sentence vector\u001b[0m\u001b[0;34m\u001b[0m\u001b[0;34m\u001b[0m\u001b[0;34m\u001b[0m\u001b[0m\n\u001b[0;32m---> 24\u001b[0;31m         x_summary = self.summary_bert(input_ids=x_summary['input_ids'],\n\u001b[0m\u001b[1;32m     25\u001b[0m                                       attention_mask = x_summary['attention_mask'])[0][:,0,:]\n\u001b[1;32m     26\u001b[0m \u001b[0;34m\u001b[0m\u001b[0m\n",
      "\u001b[0;31mUnboundLocalError\u001b[0m: local variable 'x_summary' referenced before assignment"
     ]
    }
   ],
   "source": [
    "# tokenizer\n",
    "tokenizer = DistilBertTokenizer.from_pretrained(BERT_CONFIG)\n",
    "SUMMARY_MAX_LENGTH = 50\n",
    "REVIEW_MAX_LENGTH = 256\n",
    "\n",
    "# training\n",
    "BATCH_SIZE = 8\n",
    "EPOCHS = 1\n",
    "optimizer = torch.optim.Adam(net.parameters(), lr=0.001)\n",
    "dataloader = DataLoader(dataset, batch_size=BATCH_SIZE)\n",
    "\n",
    "for epoch in range(EPOCHS):\n",
    "    for summary, text, rating in dataloader:\n",
    "        \n",
    "        x_summary = tokenizer.batch_encode_plus(summary,\n",
    "                                                return_tensors='pt',\n",
    "                                                max_length=SUMMARY_MAX_LENGTH,\n",
    "                                                pad_to_max_length=True).to(device)\n",
    "        \n",
    "        x_text = tokenizer.batch_encode_plus(text,\n",
    "                                             return_tensors='pt',\n",
    "                                             max_length=REVIEW_MAX_LENGTH,\n",
    "                                             pad_to_max_length=True).to(device)\n",
    "        \n",
    "        y = rating.unsqueeze(1).to(device)\n",
    "        \n",
    "        net.zero_grad()\n",
    "        optimizer.zero_grad()\n",
    "               \n",
    "        y_pred = net(x_summary, x_text)\n",
    "        \n",
    "        print(y)\n",
    "        print(y_pred)\n",
    "        \n",
    "        break\n",
    "\n",
    "\n",
    "\n",
    "\n"
   ]
  },
  {
   "cell_type": "code",
   "execution_count": null,
   "metadata": {},
   "outputs": [],
   "source": []
  }
 ],
 "metadata": {
  "environment": {
   "name": "pytorch-gpu.1-4.m46",
   "type": "gcloud",
   "uri": "gcr.io/deeplearning-platform-release/pytorch-gpu.1-4:m46"
  },
  "kernelspec": {
   "display_name": "Python 3",
   "language": "python",
   "name": "python3"
  },
  "language_info": {
   "codemirror_mode": {
    "name": "ipython",
    "version": 3
   },
   "file_extension": ".py",
   "mimetype": "text/x-python",
   "name": "python",
   "nbconvert_exporter": "python",
   "pygments_lexer": "ipython3",
   "version": "3.7.6"
  }
 },
 "nbformat": 4,
 "nbformat_minor": 4
}
