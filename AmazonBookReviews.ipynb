{
 "cells": [
  {
   "cell_type": "markdown",
   "metadata": {},
   "source": [
    "# Prepare data set for Amazon book reviews"
   ]
  },
  {
   "cell_type": "code",
   "execution_count": 1,
   "metadata": {},
   "outputs": [
    {
     "name": "stdout",
     "output_type": "stream",
     "text": [
      "Load dataset\n",
      "Data loaded in 30 seconds\n",
      "Training data size: 7200\n",
      "Validation data size: 2400\n",
      "Test data size: 2400\n"
     ]
    }
   ],
   "source": [
    "import pandas as pd\n",
    "import xml.etree.ElementTree as et\n",
    "import torch\n",
    "from torch.utils.data import DataLoader, Dataset\n",
    "from sklearn.model_selection import train_test_split\n",
    "from transformers import DistilBertTokenizer, DistilBertModel\n",
    "from timeit import default_timer as timer\n",
    "\n",
    "# bert\n",
    "BERT_CONFIG = 'distilbert-base-multilingual-cased'\n",
    "\n",
    "def parse_XML(xml_file, df_cols): \n",
    "    \"\"\"Parse the input XML file and store the result in a pandas \n",
    "    DataFrame with the given columns. \n",
    "    \n",
    "    The first element of df_cols is supposed to be the identifier \n",
    "    variable, which is an attribute of each node element in the \n",
    "    XML data; other features will be parsed from the text content \n",
    "    of each sub-element. \n",
    "    \"\"\"\n",
    "    \n",
    "    xtree = et.parse(xml_file)\n",
    "    xroot = xtree.getroot()\n",
    "    rows = []\n",
    "    id=1\n",
    "    for node in xroot: \n",
    "        res = []\n",
    "        res.append(id)\n",
    "        id+=1\n",
    "        for el in df_cols[1:]: \n",
    "            if node is not None and node.find(el) is not None:\n",
    "                res.append(node.find(el).text.strip())\n",
    "            else: \n",
    "                res.append(None)\n",
    "        rows.append({df_cols[i]: res[i] \n",
    "                     for i, _ in enumerate(df_cols)})\n",
    "    \n",
    "    out_df = pd.DataFrame(rows, columns=df_cols)\n",
    "    out_df['rating'] = out_df.rating.astype(float)\n",
    "    out_df['norm_rating'] = (out_df['rating']/2 -1.5)/2\n",
    "    return out_df\n",
    "\n",
    "def get_data(file_paths):\n",
    "    df = None\n",
    "    for file_path in file_paths:\n",
    "        if df is None:\n",
    "            df = parse_XML(file_path, ['id', 'summary', 'rating', 'text', 'category'])\n",
    "        else:\n",
    "            df_new = parse_XML(file_path, ['id', 'summary', 'rating', 'text', 'category'])\n",
    "            df = df.append(df_new)\n",
    "    return df\n",
    "\n",
    "\n",
    "# tokenizer\n",
    "tokenizer = DistilBertTokenizer.from_pretrained(BERT_CONFIG)\n",
    "SUMMARY_MAX_LENGTH = 50\n",
    "REVIEW_MAX_LENGTH = 256\n",
    "\n",
    "class AmazonReviewDataset(Dataset):\n",
    "    def __init__(self, df):\n",
    "        self.rating = torch.tensor(list(df.norm_rating), dtype=torch.float)\n",
    "        \n",
    "        text = list(df.text)\n",
    "        summary = list(df.summary)\n",
    "        \n",
    "        self.summary = tokenizer.batch_encode_plus(summary,\n",
    "                                                   return_tensors='pt',\n",
    "                                                   max_length=SUMMARY_MAX_LENGTH,\n",
    "                                                   pad_to_max_length=True)\n",
    "        \n",
    "        self.text = tokenizer.batch_encode_plus(text,\n",
    "                                                return_tensors='pt',\n",
    "                                                max_length=REVIEW_MAX_LENGTH,\n",
    "                                                pad_to_max_length=True)\n",
    "        \n",
    "        \n",
    "    \n",
    "    def __len__(self):\n",
    "        return len(self.rating)\n",
    "    \n",
    "    def __getitem__(self, index):\n",
    "        summary_input_ids = self.summary['input_ids'][index]\n",
    "        summary_attention_mask = self.summary['attention_mask'][index]\n",
    "        text_input_ids = self.text['input_ids'][index]\n",
    "        text_attention_mask = self.text['attention_mask'][index]\n",
    "        rating = self.rating[index]\n",
    "        \n",
    "        return summary_input_ids, summary_attention_mask, text_input_ids, text_attention_mask, rating\n",
    "\n",
    "files = [r'./data/amazon-dataset/english/books/train.review',\n",
    "         r'./data/amazon-dataset/english/books/test.review',\n",
    "         r'./data/amazon-dataset/french/books/train.review',\n",
    "         r'./data/amazon-dataset/french/books/test.review',\n",
    "         r'./data/amazon-dataset/german/books/train.review',\n",
    "         r'./data/amazon-dataset/german/books/test.review']\n",
    "\n",
    "files_en_only = [r'./data/amazon-dataset/english/books/train.review',\n",
    "                 r'./data/amazon-dataset/english/books/test.review']\n",
    "\n",
    "start = timer()\n",
    "print('Load dataset')\n",
    "\n",
    "data_frame = get_data(files)\n",
    "#data_frame = get_data(files_en_only)\n",
    "\n",
    "# test data\n",
    "train_df, test_df = train_test_split(data_frame, test_size=0.2)\n",
    "\n",
    "# validation data\n",
    "train_df, val_df = train_test_split(train_df, test_size = 0.25)\n",
    "\n",
    "train_dataset = AmazonReviewDataset(train_df)\n",
    "test_dataset = AmazonReviewDataset(test_df)\n",
    "val_dataset = AmazonReviewDataset(val_df)\n",
    "\n",
    "end = timer()\n",
    "print(f'Data loaded in {int(end-start)} seconds')\n",
    "print(f'Training data size: {len(train_dataset)}')\n",
    "print(f'Validation data size: {len(val_dataset)}')\n",
    "print(f'Test data size: {len(test_dataset)}')"
   ]
  },
  {
   "cell_type": "markdown",
   "metadata": {},
   "source": [
    "# Create network using BERT"
   ]
  },
  {
   "cell_type": "code",
   "execution_count": 2,
   "metadata": {},
   "outputs": [
    {
     "name": "stdout",
     "output_type": "stream",
     "text": [
      "Running on the GPU\n"
     ]
    }
   ],
   "source": [
    "BERT_DIM = 768\n",
    "\n",
    "# network\n",
    "OUT_DIM = 1\n",
    "N_HIDDEN = 256\n",
    "\n",
    "class BookReviewNet(torch.nn.Module):\n",
    "    def __init__(self):\n",
    "        super(BookReviewNet, self).__init__()\n",
    "                        \n",
    "        # bert layers\n",
    "        self.summary_bert_layer = DistilBertModel.from_pretrained(BERT_CONFIG)\n",
    "        self.text_bert_layer = DistilBertModel.from_pretrained(BERT_CONFIG)\n",
    "        \n",
    "        # hidden layer\n",
    "        self.hidden_layer = torch.nn.Linear(2*BERT_DIM, N_HIDDEN)\n",
    "        \n",
    "        # output layer\n",
    "        self.output_layer = torch.nn.Linear(N_HIDDEN, OUT_DIM)       \n",
    "    \n",
    "    def forward(self, summary_input_ids, summary_attention_mask, text_input_ids, text_attention_mask):\n",
    "        \n",
    "        # input to bert & get first output of hidden layer, this is your sentence vector\n",
    "        bert_summary_out = self.summary_bert_layer(input_ids = summary_input_ids,\n",
    "                                             attention_mask = summary_attention_mask)[0][:,0,:]\n",
    "        \n",
    "        bert_text_out = self.text_bert_layer(input_ids = text_input_ids,\n",
    "                                       attention_mask = text_attention_mask)[0][:,0,:]\n",
    "                \n",
    "        # concatenate sentence vector for summary and text\n",
    "        bert_out = torch.cat((bert_summary_out, bert_text_out), 1)\n",
    "        \n",
    "        # hidden out\n",
    "        hidden_out = self.hidden_layer(bert_out)\n",
    "        hidden_out = torch.nn.functional.relu(hidden_out)\n",
    "        \n",
    "        # send to output layer\n",
    "        return self.output_layer(hidden_out)\n",
    "\n",
    "if torch.cuda.is_available():\n",
    "    gpu = torch.device(\"cuda:0\")\n",
    "    print(\"Running on the GPU\")\n",
    "\n",
    "cpu = torch.device(\"cpu\")"
   ]
  },
  {
   "cell_type": "code",
   "execution_count": 3,
   "metadata": {},
   "outputs": [
    {
     "name": "stdout",
     "output_type": "stream",
     "text": [
      "Train 20 epochs\n"
     ]
    },
    {
     "data": {
      "application/vnd.jupyter.widget-view+json": {
       "model_id": "",
       "version_major": 2,
       "version_minor": 0
      },
      "text/plain": [
       "HBox(children=(FloatProgress(value=0.0, description='Validating', max=225.0, style=ProgressStyle(description_w…"
      ]
     },
     "metadata": {},
     "output_type": "display_data"
    },
    {
     "data": {
      "application/vnd.jupyter.widget-view+json": {
       "model_id": "",
       "version_major": 2,
       "version_minor": 0
      },
      "text/plain": [
       "HBox(children=(FloatProgress(value=0.0, description='Validating', max=2400.0, style=ProgressStyle(description_…"
      ]
     },
     "metadata": {},
     "output_type": "display_data"
    },
    {
     "name": "stdout",
     "output_type": "stream",
     "text": [
      "Initial Training: loss:0.1852995753288269, error:0.4070536494255066 Validation: loss:0.18386772274971008, error:0.40555864572525024\n"
     ]
    },
    {
     "data": {
      "application/vnd.jupyter.widget-view+json": {
       "model_id": "",
       "version_major": 2,
       "version_minor": 0
      },
      "text/plain": [
       "HBox(children=(FloatProgress(value=0.0, description='Training', max=225.0, style=ProgressStyle(description_wid…"
      ]
     },
     "metadata": {},
     "output_type": "display_data"
    },
    {
     "data": {
      "application/vnd.jupyter.widget-view+json": {
       "model_id": "",
       "version_major": 2,
       "version_minor": 0
      },
      "text/plain": [
       "HBox(children=(FloatProgress(value=0.0, description='Validating', max=2400.0, style=ProgressStyle(description_…"
      ]
     },
     "metadata": {},
     "output_type": "display_data"
    },
    {
     "name": "stdout",
     "output_type": "stream",
     "text": [
      "Epoch: 1/20 Training: loss:0.1168837919831276, error:0.2808656692504883 Validation: loss:0.08150845766067505, error:0.2199486345052719\n"
     ]
    },
    {
     "data": {
      "application/vnd.jupyter.widget-view+json": {
       "model_id": "",
       "version_major": 2,
       "version_minor": 0
      },
      "text/plain": [
       "HBox(children=(FloatProgress(value=0.0, description='Training', max=225.0, style=ProgressStyle(description_wid…"
      ]
     },
     "metadata": {},
     "output_type": "display_data"
    },
    {
     "data": {
      "application/vnd.jupyter.widget-view+json": {
       "model_id": "",
       "version_major": 2,
       "version_minor": 0
      },
      "text/plain": [
       "HBox(children=(FloatProgress(value=0.0, description='Validating', max=2400.0, style=ProgressStyle(description_…"
      ]
     },
     "metadata": {},
     "output_type": "display_data"
    },
    {
     "name": "stdout",
     "output_type": "stream",
     "text": [
      "Epoch: 2/20 Training: loss:0.0567927323281765, error:0.17484670877456665 Validation: loss:0.1134311854839325, error:0.24078448116779327\n"
     ]
    },
    {
     "data": {
      "application/vnd.jupyter.widget-view+json": {
       "model_id": "",
       "version_major": 2,
       "version_minor": 0
      },
      "text/plain": [
       "HBox(children=(FloatProgress(value=0.0, description='Training', max=225.0, style=ProgressStyle(description_wid…"
      ]
     },
     "metadata": {},
     "output_type": "display_data"
    },
    {
     "data": {
      "application/vnd.jupyter.widget-view+json": {
       "model_id": "",
       "version_major": 2,
       "version_minor": 0
      },
      "text/plain": [
       "HBox(children=(FloatProgress(value=0.0, description='Validating', max=2400.0, style=ProgressStyle(description_…"
      ]
     },
     "metadata": {},
     "output_type": "display_data"
    },
    {
     "name": "stdout",
     "output_type": "stream",
     "text": [
      "Epoch: 3/20 Training: loss:0.032974980771541595, error:0.13110186159610748 Validation: loss:0.07100590318441391, error:0.19137313961982727\n"
     ]
    },
    {
     "data": {
      "application/vnd.jupyter.widget-view+json": {
       "model_id": "",
       "version_major": 2,
       "version_minor": 0
      },
      "text/plain": [
       "HBox(children=(FloatProgress(value=0.0, description='Training', max=225.0, style=ProgressStyle(description_wid…"
      ]
     },
     "metadata": {},
     "output_type": "display_data"
    },
    {
     "data": {
      "application/vnd.jupyter.widget-view+json": {
       "model_id": "",
       "version_major": 2,
       "version_minor": 0
      },
      "text/plain": [
       "HBox(children=(FloatProgress(value=0.0, description='Validating', max=2400.0, style=ProgressStyle(description_…"
      ]
     },
     "metadata": {},
     "output_type": "display_data"
    },
    {
     "name": "stdout",
     "output_type": "stream",
     "text": [
      "Epoch: 4/20 Training: loss:0.023687124252319336, error:0.11315606534481049 Validation: loss:0.09218796342611313, error:0.21247613430023193\n"
     ]
    },
    {
     "data": {
      "application/vnd.jupyter.widget-view+json": {
       "model_id": "",
       "version_major": 2,
       "version_minor": 0
      },
      "text/plain": [
       "HBox(children=(FloatProgress(value=0.0, description='Training', max=225.0, style=ProgressStyle(description_wid…"
      ]
     },
     "metadata": {},
     "output_type": "display_data"
    },
    {
     "data": {
      "application/vnd.jupyter.widget-view+json": {
       "model_id": "",
       "version_major": 2,
       "version_minor": 0
      },
      "text/plain": [
       "HBox(children=(FloatProgress(value=0.0, description='Validating', max=2400.0, style=ProgressStyle(description_…"
      ]
     },
     "metadata": {},
     "output_type": "display_data"
    },
    {
     "name": "stdout",
     "output_type": "stream",
     "text": [
      "Epoch: 5/20 Training: loss:0.01729070022702217, error:0.09821941703557968 Validation: loss:0.06894295662641525, error:0.1836334466934204\n"
     ]
    },
    {
     "data": {
      "application/vnd.jupyter.widget-view+json": {
       "model_id": "",
       "version_major": 2,
       "version_minor": 0
      },
      "text/plain": [
       "HBox(children=(FloatProgress(value=0.0, description='Training', max=225.0, style=ProgressStyle(description_wid…"
      ]
     },
     "metadata": {},
     "output_type": "display_data"
    },
    {
     "data": {
      "application/vnd.jupyter.widget-view+json": {
       "model_id": "",
       "version_major": 2,
       "version_minor": 0
      },
      "text/plain": [
       "HBox(children=(FloatProgress(value=0.0, description='Validating', max=2400.0, style=ProgressStyle(description_…"
      ]
     },
     "metadata": {},
     "output_type": "display_data"
    },
    {
     "name": "stdout",
     "output_type": "stream",
     "text": [
      "Epoch: 6/20 Training: loss:0.01151254866272211, error:0.08193361014127731 Validation: loss:0.0650070533156395, error:0.1772390902042389\n"
     ]
    },
    {
     "data": {
      "application/vnd.jupyter.widget-view+json": {
       "model_id": "",
       "version_major": 2,
       "version_minor": 0
      },
      "text/plain": [
       "HBox(children=(FloatProgress(value=0.0, description='Training', max=225.0, style=ProgressStyle(description_wid…"
      ]
     },
     "metadata": {},
     "output_type": "display_data"
    },
    {
     "data": {
      "application/vnd.jupyter.widget-view+json": {
       "model_id": "",
       "version_major": 2,
       "version_minor": 0
      },
      "text/plain": [
       "HBox(children=(FloatProgress(value=0.0, description='Validating', max=2400.0, style=ProgressStyle(description_…"
      ]
     },
     "metadata": {},
     "output_type": "display_data"
    },
    {
     "name": "stdout",
     "output_type": "stream",
     "text": [
      "Epoch: 7/20 Training: loss:0.008120810613036156, error:0.07004198431968689 Validation: loss:0.06472143530845642, error:0.17587503790855408\n"
     ]
    },
    {
     "data": {
      "application/vnd.jupyter.widget-view+json": {
       "model_id": "",
       "version_major": 2,
       "version_minor": 0
      },
      "text/plain": [
       "HBox(children=(FloatProgress(value=0.0, description='Training', max=225.0, style=ProgressStyle(description_wid…"
      ]
     },
     "metadata": {},
     "output_type": "display_data"
    },
    {
     "data": {
      "application/vnd.jupyter.widget-view+json": {
       "model_id": "",
       "version_major": 2,
       "version_minor": 0
      },
      "text/plain": [
       "HBox(children=(FloatProgress(value=0.0, description='Validating', max=2400.0, style=ProgressStyle(description_…"
      ]
     },
     "metadata": {},
     "output_type": "display_data"
    },
    {
     "name": "stdout",
     "output_type": "stream",
     "text": [
      "Epoch: 8/20 Training: loss:0.006173513829708099, error:0.0603792667388916 Validation: loss:0.06341039389371872, error:0.17362181842327118\n"
     ]
    },
    {
     "data": {
      "application/vnd.jupyter.widget-view+json": {
       "model_id": "",
       "version_major": 2,
       "version_minor": 0
      },
      "text/plain": [
       "HBox(children=(FloatProgress(value=0.0, description='Training', max=225.0, style=ProgressStyle(description_wid…"
      ]
     },
     "metadata": {},
     "output_type": "display_data"
    },
    {
     "data": {
      "application/vnd.jupyter.widget-view+json": {
       "model_id": "",
       "version_major": 2,
       "version_minor": 0
      },
      "text/plain": [
       "HBox(children=(FloatProgress(value=0.0, description='Validating', max=2400.0, style=ProgressStyle(description_…"
      ]
     },
     "metadata": {},
     "output_type": "display_data"
    },
    {
     "name": "stdout",
     "output_type": "stream",
     "text": [
      "Epoch: 9/20 Training: loss:0.005408432800322771, error:0.055945686995983124 Validation: loss:0.0660490095615387, error:0.1739116907119751\n"
     ]
    },
    {
     "data": {
      "application/vnd.jupyter.widget-view+json": {
       "model_id": "",
       "version_major": 2,
       "version_minor": 0
      },
      "text/plain": [
       "HBox(children=(FloatProgress(value=0.0, description='Training', max=225.0, style=ProgressStyle(description_wid…"
      ]
     },
     "metadata": {},
     "output_type": "display_data"
    },
    {
     "data": {
      "application/vnd.jupyter.widget-view+json": {
       "model_id": "",
       "version_major": 2,
       "version_minor": 0
      },
      "text/plain": [
       "HBox(children=(FloatProgress(value=0.0, description='Validating', max=2400.0, style=ProgressStyle(description_…"
      ]
     },
     "metadata": {},
     "output_type": "display_data"
    },
    {
     "name": "stdout",
     "output_type": "stream",
     "text": [
      "Epoch: 10/20 Training: loss:0.004883971530944109, error:0.05317292362451553 Validation: loss:0.06634633988142014, error:0.17572449147701263\n"
     ]
    },
    {
     "data": {
      "application/vnd.jupyter.widget-view+json": {
       "model_id": "",
       "version_major": 2,
       "version_minor": 0
      },
      "text/plain": [
       "HBox(children=(FloatProgress(value=0.0, description='Training', max=225.0, style=ProgressStyle(description_wid…"
      ]
     },
     "metadata": {},
     "output_type": "display_data"
    },
    {
     "data": {
      "application/vnd.jupyter.widget-view+json": {
       "model_id": "",
       "version_major": 2,
       "version_minor": 0
      },
      "text/plain": [
       "HBox(children=(FloatProgress(value=0.0, description='Validating', max=2400.0, style=ProgressStyle(description_…"
      ]
     },
     "metadata": {},
     "output_type": "display_data"
    },
    {
     "name": "stdout",
     "output_type": "stream",
     "text": [
      "Epoch: 11/20 Training: loss:0.005335190799087286, error:0.05562980845570564 Validation: loss:0.06609403342008591, error:0.17117837071418762\n"
     ]
    },
    {
     "data": {
      "application/vnd.jupyter.widget-view+json": {
       "model_id": "",
       "version_major": 2,
       "version_minor": 0
      },
      "text/plain": [
       "HBox(children=(FloatProgress(value=0.0, description='Training', max=225.0, style=ProgressStyle(description_wid…"
      ]
     },
     "metadata": {},
     "output_type": "display_data"
    },
    {
     "data": {
      "application/vnd.jupyter.widget-view+json": {
       "model_id": "",
       "version_major": 2,
       "version_minor": 0
      },
      "text/plain": [
       "HBox(children=(FloatProgress(value=0.0, description='Validating', max=2400.0, style=ProgressStyle(description_…"
      ]
     },
     "metadata": {},
     "output_type": "display_data"
    },
    {
     "name": "stdout",
     "output_type": "stream",
     "text": [
      "Epoch: 12/20 Training: loss:0.005808497779071331, error:0.05813925713300705 Validation: loss:0.0665312334895134, error:0.18028096854686737\n"
     ]
    },
    {
     "data": {
      "application/vnd.jupyter.widget-view+json": {
       "model_id": "",
       "version_major": 2,
       "version_minor": 0
      },
      "text/plain": [
       "HBox(children=(FloatProgress(value=0.0, description='Training', max=225.0, style=ProgressStyle(description_wid…"
      ]
     },
     "metadata": {},
     "output_type": "display_data"
    },
    {
     "data": {
      "application/vnd.jupyter.widget-view+json": {
       "model_id": "",
       "version_major": 2,
       "version_minor": 0
      },
      "text/plain": [
       "HBox(children=(FloatProgress(value=0.0, description='Validating', max=2400.0, style=ProgressStyle(description_…"
      ]
     },
     "metadata": {},
     "output_type": "display_data"
    },
    {
     "name": "stdout",
     "output_type": "stream",
     "text": [
      "Epoch: 13/20 Training: loss:0.006774582900106907, error:0.062451425939798355 Validation: loss:0.06958405673503876, error:0.18413075804710388\n"
     ]
    },
    {
     "data": {
      "application/vnd.jupyter.widget-view+json": {
       "model_id": "",
       "version_major": 2,
       "version_minor": 0
      },
      "text/plain": [
       "HBox(children=(FloatProgress(value=0.0, description='Training', max=225.0, style=ProgressStyle(description_wid…"
      ]
     },
     "metadata": {},
     "output_type": "display_data"
    },
    {
     "data": {
      "application/vnd.jupyter.widget-view+json": {
       "model_id": "",
       "version_major": 2,
       "version_minor": 0
      },
      "text/plain": [
       "HBox(children=(FloatProgress(value=0.0, description='Validating', max=2400.0, style=ProgressStyle(description_…"
      ]
     },
     "metadata": {},
     "output_type": "display_data"
    },
    {
     "name": "stdout",
     "output_type": "stream",
     "text": [
      "Epoch: 14/20 Training: loss:0.005725529510527849, error:0.058214858174324036 Validation: loss:0.06382070481777191, error:0.17593152821063995\n"
     ]
    },
    {
     "data": {
      "application/vnd.jupyter.widget-view+json": {
       "model_id": "ab78280c40e648a8ae226c0cc138d960",
       "version_major": 2,
       "version_minor": 0
      },
      "text/plain": [
       "HBox(children=(FloatProgress(value=0.0, description='Training', max=225.0, style=ProgressStyle(description_wid…"
      ]
     },
     "metadata": {},
     "output_type": "display_data"
    },
    {
     "ename": "KeyboardInterrupt",
     "evalue": "",
     "output_type": "error",
     "traceback": [
      "\u001b[0;31m---------------------------------------------------------------------------\u001b[0m",
      "\u001b[0;31mKeyboardInterrupt\u001b[0m                         Traceback (most recent call last)",
      "\u001b[0;32m<ipython-input-3-b1a84a7795c1>\u001b[0m in \u001b[0;36m<module>\u001b[0;34m\u001b[0m\n\u001b[1;32m     92\u001b[0m         \u001b[0mprint\u001b[0m\u001b[0;34m(\u001b[0m\u001b[0;34mf\"Initial Training: loss:{train_loss}, error:{train_error} Validation: loss:{val_loss}, error:{val_error}\"\u001b[0m\u001b[0;34m)\u001b[0m\u001b[0;34m\u001b[0m\u001b[0;34m\u001b[0m\u001b[0m\n\u001b[1;32m     93\u001b[0m     \u001b[0;32melse\u001b[0m\u001b[0;34m:\u001b[0m\u001b[0;34m\u001b[0m\u001b[0;34m\u001b[0m\u001b[0m\n\u001b[0;32m---> 94\u001b[0;31m         \u001b[0mtrain_loss\u001b[0m\u001b[0;34m,\u001b[0m \u001b[0mtrain_error\u001b[0m \u001b[0;34m=\u001b[0m \u001b[0mtrain\u001b[0m\u001b[0;34m(\u001b[0m\u001b[0mtrain_dataloader\u001b[0m\u001b[0;34m)\u001b[0m\u001b[0;34m\u001b[0m\u001b[0;34m\u001b[0m\u001b[0m\n\u001b[0m\u001b[1;32m     95\u001b[0m         \u001b[0mval_loss\u001b[0m\u001b[0;34m,\u001b[0m \u001b[0mval_error\u001b[0m \u001b[0;34m=\u001b[0m \u001b[0mcv\u001b[0m\u001b[0;34m(\u001b[0m\u001b[0mval_dataloader\u001b[0m\u001b[0;34m)\u001b[0m\u001b[0;34m\u001b[0m\u001b[0;34m\u001b[0m\u001b[0m\n\u001b[1;32m     96\u001b[0m         \u001b[0mprint\u001b[0m\u001b[0;34m(\u001b[0m\u001b[0;34mf\"Epoch: {epoch}/{EPOCHS} Training: loss:{train_loss}, error:{train_error} Validation: loss:{val_loss}, error:{val_error}\"\u001b[0m\u001b[0;34m)\u001b[0m\u001b[0;34m\u001b[0m\u001b[0;34m\u001b[0m\u001b[0m\n",
      "\u001b[0;32m<ipython-input-3-b1a84a7795c1>\u001b[0m in \u001b[0;36mtrain\u001b[0;34m(dataloader)\u001b[0m\n\u001b[1;32m     48\u001b[0m \u001b[0;34m\u001b[0m\u001b[0m\n\u001b[1;32m     49\u001b[0m         \u001b[0moptimizer\u001b[0m\u001b[0;34m.\u001b[0m\u001b[0mzero_grad\u001b[0m\u001b[0;34m(\u001b[0m\u001b[0;34m)\u001b[0m\u001b[0;34m\u001b[0m\u001b[0;34m\u001b[0m\u001b[0m\n\u001b[0;32m---> 50\u001b[0;31m         \u001b[0mloss\u001b[0m\u001b[0;34m.\u001b[0m\u001b[0mbackward\u001b[0m\u001b[0;34m(\u001b[0m\u001b[0;34m)\u001b[0m\u001b[0;34m\u001b[0m\u001b[0;34m\u001b[0m\u001b[0m\n\u001b[0m\u001b[1;32m     51\u001b[0m         \u001b[0moptimizer\u001b[0m\u001b[0;34m.\u001b[0m\u001b[0mstep\u001b[0m\u001b[0;34m(\u001b[0m\u001b[0;34m)\u001b[0m\u001b[0;34m\u001b[0m\u001b[0;34m\u001b[0m\u001b[0m\n\u001b[1;32m     52\u001b[0m \u001b[0;34m\u001b[0m\u001b[0m\n",
      "\u001b[0;32m/opt/conda/lib/python3.7/site-packages/torch/tensor.py\u001b[0m in \u001b[0;36mbackward\u001b[0;34m(self, gradient, retain_graph, create_graph)\u001b[0m\n\u001b[1;32m    193\u001b[0m                 \u001b[0mproducts\u001b[0m\u001b[0;34m.\u001b[0m \u001b[0mDefaults\u001b[0m \u001b[0mto\u001b[0m\u001b[0;31m \u001b[0m\u001b[0;31m`\u001b[0m\u001b[0;31m`\u001b[0m\u001b[0;32mFalse\u001b[0m\u001b[0;31m`\u001b[0m\u001b[0;31m`\u001b[0m\u001b[0;34m.\u001b[0m\u001b[0;34m\u001b[0m\u001b[0;34m\u001b[0m\u001b[0m\n\u001b[1;32m    194\u001b[0m         \"\"\"\n\u001b[0;32m--> 195\u001b[0;31m         \u001b[0mtorch\u001b[0m\u001b[0;34m.\u001b[0m\u001b[0mautograd\u001b[0m\u001b[0;34m.\u001b[0m\u001b[0mbackward\u001b[0m\u001b[0;34m(\u001b[0m\u001b[0mself\u001b[0m\u001b[0;34m,\u001b[0m \u001b[0mgradient\u001b[0m\u001b[0;34m,\u001b[0m \u001b[0mretain_graph\u001b[0m\u001b[0;34m,\u001b[0m \u001b[0mcreate_graph\u001b[0m\u001b[0;34m)\u001b[0m\u001b[0;34m\u001b[0m\u001b[0;34m\u001b[0m\u001b[0m\n\u001b[0m\u001b[1;32m    196\u001b[0m \u001b[0;34m\u001b[0m\u001b[0m\n\u001b[1;32m    197\u001b[0m     \u001b[0;32mdef\u001b[0m \u001b[0mregister_hook\u001b[0m\u001b[0;34m(\u001b[0m\u001b[0mself\u001b[0m\u001b[0;34m,\u001b[0m \u001b[0mhook\u001b[0m\u001b[0;34m)\u001b[0m\u001b[0;34m:\u001b[0m\u001b[0;34m\u001b[0m\u001b[0;34m\u001b[0m\u001b[0m\n",
      "\u001b[0;32m/opt/conda/lib/python3.7/site-packages/torch/autograd/__init__.py\u001b[0m in \u001b[0;36mbackward\u001b[0;34m(tensors, grad_tensors, retain_graph, create_graph, grad_variables)\u001b[0m\n\u001b[1;32m     97\u001b[0m     Variable._execution_engine.run_backward(\n\u001b[1;32m     98\u001b[0m         \u001b[0mtensors\u001b[0m\u001b[0;34m,\u001b[0m \u001b[0mgrad_tensors\u001b[0m\u001b[0;34m,\u001b[0m \u001b[0mretain_graph\u001b[0m\u001b[0;34m,\u001b[0m \u001b[0mcreate_graph\u001b[0m\u001b[0;34m,\u001b[0m\u001b[0;34m\u001b[0m\u001b[0;34m\u001b[0m\u001b[0m\n\u001b[0;32m---> 99\u001b[0;31m         allow_unreachable=True)  # allow_unreachable flag\n\u001b[0m\u001b[1;32m    100\u001b[0m \u001b[0;34m\u001b[0m\u001b[0m\n\u001b[1;32m    101\u001b[0m \u001b[0;34m\u001b[0m\u001b[0m\n",
      "\u001b[0;31mKeyboardInterrupt\u001b[0m: "
     ]
    }
   ],
   "source": [
    "import tqdm.notebook as tqdm\n",
    "from transformers.optimization import AdamW, get_linear_schedule_with_warmup\n",
    "\n",
    "# training\n",
    "BATCH_SIZE = 32\n",
    "EPOCHS = 20\n",
    "TRAINING_STEPS_PER_EPOCH = 225\n",
    "LEARNING_RATE = 3e-5\n",
    "num_training_steps = EPOCHS*TRAINING_STEPS_PER_EPOCH\n",
    "num_warmup_steps = num_training_steps/10\n",
    "\n",
    "# create network and load it to GPU\n",
    "torch.cuda.empty_cache()\n",
    "net = BookReviewNet().to(gpu)\n",
    "\n",
    "optimizer = AdamW(net.parameters(), lr=LEARNING_RATE, weight_decay=0.01)\n",
    "#scheduler = get_linear_schedule_with_warmup(optimizer, num_warmup_steps=num_warmup_steps, num_training_steps=num_training_steps)  # PyTorch scheduler\n",
    "\n",
    "loss_function = torch.nn.MSELoss()\n",
    "\n",
    "train_dataloader = DataLoader(train_dataset, batch_size=BATCH_SIZE)\n",
    "val_dataloader = DataLoader(val_dataset, batch_size=1)\n",
    "\n",
    "def train(dataloader):\n",
    "    total_loss = 0\n",
    "    total_error = 0\n",
    "    n = 0\n",
    "    \n",
    "    net.train()\n",
    "    \n",
    "    for summary_input_ids, summary_attention_mask, text_input_ids, text_attention_mask, rating in tqdm.tqdm(dataloader, desc=\"Training\", leave=False):\n",
    "\n",
    "        x1 = summary_input_ids.to(gpu)\n",
    "        x2 = summary_attention_mask.to(gpu)\n",
    "        x3 = text_input_ids.to(gpu)\n",
    "        x4 = text_attention_mask.to(gpu)\n",
    "        y = rating.unsqueeze(1).to(gpu)\n",
    "        \n",
    "        y_pred = net(x1, x2, x3 ,x4)\n",
    "        loss = loss_function(y_pred, y)\n",
    "        \n",
    "        k = len(y)\n",
    "        \n",
    "        total_loss += loss*k\n",
    "        n += k\n",
    "        \n",
    "        total_error += (y_pred-y).abs().sum()\n",
    "        \n",
    "        optimizer.zero_grad()\n",
    "        loss.backward()\n",
    "        optimizer.step()\n",
    "\n",
    "    return total_loss/n, total_error/n\n",
    "\n",
    "\n",
    "def cv(dataloader):\n",
    "    total_loss = 0\n",
    "    total_error = 0\n",
    "    n = 0\n",
    "    \n",
    "    with torch.no_grad():\n",
    "        net.eval()\n",
    "\n",
    "        for summary_input_ids, summary_attention_mask, text_input_ids, text_attention_mask, rating in tqdm.tqdm(dataloader, desc=\"Validating\", leave=False):\n",
    "\n",
    "            x1 = summary_input_ids.to(gpu)\n",
    "            x2 = summary_attention_mask.to(gpu)\n",
    "            x3 = text_input_ids.to(gpu)\n",
    "            x4 = text_attention_mask.to(gpu)\n",
    "            y = rating.unsqueeze(1).to(gpu)\n",
    "\n",
    "            y_pred = net(x1, x2, x3 ,x4)\n",
    "            loss = loss_function(y_pred, y)\n",
    "\n",
    "            k = len(y)\n",
    "\n",
    "            total_loss += loss*k\n",
    "            n += k\n",
    "            total_error += (y_pred-y).abs().sum()\n",
    "\n",
    "    return total_loss/n, total_error/n\n",
    "\n",
    "\n",
    "print(f\"Train {EPOCHS} epochs\")\n",
    "history = []\n",
    "start = timer()\n",
    "\n",
    "for epoch in range(EPOCHS+1):\n",
    "    if(epoch==0):\n",
    "        train_loss, train_error = cv(train_dataloader)\n",
    "        val_loss, val_error = cv(val_dataloader)\n",
    "        print(f\"Initial Training: loss:{train_loss}, error:{train_error} Validation: loss:{val_loss}, error:{val_error}\")\n",
    "    else:\n",
    "        train_loss, train_error = train(train_dataloader)\n",
    "        val_loss, val_error = cv(val_dataloader)   \n",
    "        print(f\"Epoch: {epoch}/{EPOCHS} Training: loss:{train_loss}, error:{train_error} Validation: loss:{val_loss}, error:{val_error}\")\n",
    "    history.append((train_loss, train_error, val_loss, val_error))\n",
    " \n",
    "end = timer()\n",
    "secs = int(end-start)\n",
    "mins = int(secs/60)\n",
    "secs = int(secs%60)\n",
    "print(f\"{epoch} epochs completed in {mins} minutes & {secs} seconds\")"
   ]
  },
  {
   "cell_type": "code",
   "execution_count": 11,
   "metadata": {},
   "outputs": [
    {
     "data": {
      "text/plain": [
       "[(tensor(0.1853, device='cuda:0'),\n",
       "  tensor(0.4071, device='cuda:0'),\n",
       "  tensor(0.1839, device='cuda:0'),\n",
       "  tensor(0.4056, device='cuda:0')),\n",
       " (tensor(0.1169, device='cuda:0', grad_fn=<DivBackward0>),\n",
       "  tensor(0.2809, device='cuda:0', grad_fn=<DivBackward0>),\n",
       "  tensor(0.0815, device='cuda:0'),\n",
       "  tensor(0.2199, device='cuda:0')),\n",
       " (tensor(0.0568, device='cuda:0', grad_fn=<DivBackward0>),\n",
       "  tensor(0.1748, device='cuda:0', grad_fn=<DivBackward0>),\n",
       "  tensor(0.1134, device='cuda:0'),\n",
       "  tensor(0.2408, device='cuda:0')),\n",
       " (tensor(0.0330, device='cuda:0', grad_fn=<DivBackward0>),\n",
       "  tensor(0.1311, device='cuda:0', grad_fn=<DivBackward0>),\n",
       "  tensor(0.0710, device='cuda:0'),\n",
       "  tensor(0.1914, device='cuda:0')),\n",
       " (tensor(0.0237, device='cuda:0', grad_fn=<DivBackward0>),\n",
       "  tensor(0.1132, device='cuda:0', grad_fn=<DivBackward0>),\n",
       "  tensor(0.0922, device='cuda:0'),\n",
       "  tensor(0.2125, device='cuda:0')),\n",
       " (tensor(0.0173, device='cuda:0', grad_fn=<DivBackward0>),\n",
       "  tensor(0.0982, device='cuda:0', grad_fn=<DivBackward0>),\n",
       "  tensor(0.0689, device='cuda:0'),\n",
       "  tensor(0.1836, device='cuda:0')),\n",
       " (tensor(0.0115, device='cuda:0', grad_fn=<DivBackward0>),\n",
       "  tensor(0.0819, device='cuda:0', grad_fn=<DivBackward0>),\n",
       "  tensor(0.0650, device='cuda:0'),\n",
       "  tensor(0.1772, device='cuda:0')),\n",
       " (tensor(0.0081, device='cuda:0', grad_fn=<DivBackward0>),\n",
       "  tensor(0.0700, device='cuda:0', grad_fn=<DivBackward0>),\n",
       "  tensor(0.0647, device='cuda:0'),\n",
       "  tensor(0.1759, device='cuda:0')),\n",
       " (tensor(0.0062, device='cuda:0', grad_fn=<DivBackward0>),\n",
       "  tensor(0.0604, device='cuda:0', grad_fn=<DivBackward0>),\n",
       "  tensor(0.0634, device='cuda:0'),\n",
       "  tensor(0.1736, device='cuda:0')),\n",
       " (tensor(0.0054, device='cuda:0', grad_fn=<DivBackward0>),\n",
       "  tensor(0.0559, device='cuda:0', grad_fn=<DivBackward0>),\n",
       "  tensor(0.0660, device='cuda:0'),\n",
       "  tensor(0.1739, device='cuda:0')),\n",
       " (tensor(0.0049, device='cuda:0', grad_fn=<DivBackward0>),\n",
       "  tensor(0.0532, device='cuda:0', grad_fn=<DivBackward0>),\n",
       "  tensor(0.0663, device='cuda:0'),\n",
       "  tensor(0.1757, device='cuda:0')),\n",
       " (tensor(0.0053, device='cuda:0', grad_fn=<DivBackward0>),\n",
       "  tensor(0.0556, device='cuda:0', grad_fn=<DivBackward0>),\n",
       "  tensor(0.0661, device='cuda:0'),\n",
       "  tensor(0.1712, device='cuda:0')),\n",
       " (tensor(0.0058, device='cuda:0', grad_fn=<DivBackward0>),\n",
       "  tensor(0.0581, device='cuda:0', grad_fn=<DivBackward0>),\n",
       "  tensor(0.0665, device='cuda:0'),\n",
       "  tensor(0.1803, device='cuda:0')),\n",
       " (tensor(0.0068, device='cuda:0', grad_fn=<DivBackward0>),\n",
       "  tensor(0.0625, device='cuda:0', grad_fn=<DivBackward0>),\n",
       "  tensor(0.0696, device='cuda:0'),\n",
       "  tensor(0.1841, device='cuda:0')),\n",
       " (tensor(0.0057, device='cuda:0', grad_fn=<DivBackward0>),\n",
       "  tensor(0.0582, device='cuda:0', grad_fn=<DivBackward0>),\n",
       "  tensor(0.0638, device='cuda:0'),\n",
       "  tensor(0.1759, device='cuda:0'))]"
      ]
     },
     "execution_count": 11,
     "metadata": {},
     "output_type": "execute_result"
    }
   ],
   "source": [
    "history[0:]"
   ]
  },
  {
   "cell_type": "code",
   "execution_count": null,
   "metadata": {},
   "outputs": [],
   "source": []
  }
 ],
 "metadata": {
  "environment": {
   "name": "pytorch-gpu.1-4.m46",
   "type": "gcloud",
   "uri": "gcr.io/deeplearning-platform-release/pytorch-gpu.1-4:m46"
  },
  "kernelspec": {
   "display_name": "Python 3",
   "language": "python",
   "name": "python3"
  },
  "language_info": {
   "codemirror_mode": {
    "name": "ipython",
    "version": 3
   },
   "file_extension": ".py",
   "mimetype": "text/x-python",
   "name": "python",
   "nbconvert_exporter": "python",
   "pygments_lexer": "ipython3",
   "version": "3.7.6"
  }
 },
 "nbformat": 4,
 "nbformat_minor": 4
}
