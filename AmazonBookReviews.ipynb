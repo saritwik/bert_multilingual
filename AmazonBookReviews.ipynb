{
 "cells": [
  {
   "cell_type": "markdown",
   "metadata": {},
   "source": [
    "# load dataset into a data frame"
   ]
  },
  {
   "cell_type": "code",
   "execution_count": 13,
   "metadata": {},
   "outputs": [],
   "source": [
    "import pandas as pd\n",
    "import xml.etree.ElementTree as et\n",
    "import torch\n",
    "from torch.utils.data import DataLoader, Dataset\n",
    "\n",
    "def parse_XML(xml_file, df_cols): \n",
    "    \"\"\"Parse the input XML file and store the result in a pandas \n",
    "    DataFrame with the given columns. \n",
    "    \n",
    "    The first element of df_cols is supposed to be the identifier \n",
    "    variable, which is an attribute of each node element in the \n",
    "    XML data; other features will be parsed from the text content \n",
    "    of each sub-element. \n",
    "    \"\"\"\n",
    "    \n",
    "    xtree = et.parse(xml_file)\n",
    "    xroot = xtree.getroot()\n",
    "    rows = []\n",
    "    id=1\n",
    "    for node in xroot: \n",
    "        res = []\n",
    "        res.append(id)\n",
    "        id+=1\n",
    "        for el in df_cols[1:]: \n",
    "            if node is not None and node.find(el) is not None:\n",
    "                res.append(node.find(el).text.strip())\n",
    "            else: \n",
    "                res.append(None)\n",
    "        rows.append({df_cols[i]: res[i] \n",
    "                     for i, _ in enumerate(df_cols)})\n",
    "    \n",
    "    out_df = pd.DataFrame(rows, columns=df_cols)\n",
    "    out_df['rating'] = out_df.rating.astype(float)\n",
    "    out_df['norm_rating'] = out_df['rating']/2 -1.5\n",
    "    return out_df\n",
    "\n",
    "\n",
    "\n",
    "class AmazonReviewDataset(Dataset):\n",
    "    def __init__(self, file_path):\n",
    "        df = parse_XML(file_path, ['id', 'summary', 'rating', 'text', 'category'])\n",
    "        self.rating = list(df.norm_rating)\n",
    "        self.review = list(df.text)\n",
    "        self.summary = list(df.summary)\n",
    "    \n",
    "    def __len__(self):\n",
    "        return len(self.rating)\n",
    "    \n",
    "    def __getitem__(self, index):\n",
    "        return self.summary[index], self.review[index] , self.rating[index]\n"
   ]
  },
  {
   "cell_type": "code",
   "execution_count": 14,
   "metadata": {},
   "outputs": [],
   "source": [
    "dataset = AmazonReviewDataset(r'./data/amazon-dataset/english/books/train.review')"
   ]
  },
  {
   "cell_type": "markdown",
   "metadata": {},
   "source": [
    "# create a simple regression model"
   ]
  },
  {
   "cell_type": "code",
   "execution_count": 15,
   "metadata": {},
   "outputs": [],
   "source": [
    "\n",
    "from transformers import DistilBertTokenizer, DistilBertModel\n",
    "\n",
    "bert_config = 'distilbert-base-multilingual-cased'\n",
    "\n",
    "tokenizer = DistilBertTokenizer.from_pretrained(bert_config)\n",
    "summary_model = DistilBertModel.from_pretrained(bert_config)\n",
    "review_model = DistilBertModel.from_pretrained(bert_config)"
   ]
  },
  {
   "cell_type": "code",
   "execution_count": 19,
   "metadata": {},
   "outputs": [
    {
     "ename": "AttributeError",
     "evalue": "'tuple' object has no attribute 'shape'",
     "output_type": "error",
     "traceback": [
      "\u001b[0;31m---------------------------------------------------------------------------\u001b[0m",
      "\u001b[0;31mAttributeError\u001b[0m                            Traceback (most recent call last)",
      "\u001b[0;32m<ipython-input-19-4bde57c7d07c>\u001b[0m in \u001b[0;36m<module>\u001b[0;34m\u001b[0m\n\u001b[1;32m      6\u001b[0m \u001b[0;32mfor\u001b[0m \u001b[0mx_summary\u001b[0m\u001b[0;34m,\u001b[0m \u001b[0mx_review\u001b[0m\u001b[0;34m,\u001b[0m \u001b[0my\u001b[0m \u001b[0;32min\u001b[0m \u001b[0mdataloader\u001b[0m\u001b[0;34m:\u001b[0m\u001b[0;34m\u001b[0m\u001b[0;34m\u001b[0m\u001b[0m\n\u001b[1;32m      7\u001b[0m     \u001b[0;31m# split summary and review from tuple\u001b[0m\u001b[0;34m\u001b[0m\u001b[0;34m\u001b[0m\u001b[0;34m\u001b[0m\u001b[0m\n\u001b[0;32m----> 8\u001b[0;31m     \u001b[0mprint\u001b[0m\u001b[0;34m(\u001b[0m\u001b[0mx_summary\u001b[0m\u001b[0;34m.\u001b[0m\u001b[0mshape\u001b[0m\u001b[0;34m)\u001b[0m\u001b[0;34m\u001b[0m\u001b[0;34m\u001b[0m\u001b[0m\n\u001b[0m\u001b[1;32m      9\u001b[0m     \u001b[0mprint\u001b[0m\u001b[0;34m(\u001b[0m\u001b[0mx_review\u001b[0m\u001b[0;34m)\u001b[0m\u001b[0;34m\u001b[0m\u001b[0;34m\u001b[0m\u001b[0m\n\u001b[1;32m     10\u001b[0m     \u001b[0;31m# tokenize\u001b[0m\u001b[0;34m\u001b[0m\u001b[0;34m\u001b[0m\u001b[0;34m\u001b[0m\u001b[0m\n",
      "\u001b[0;31mAttributeError\u001b[0m: 'tuple' object has no attribute 'shape'"
     ]
    }
   ],
   "source": [
    "summary_max_length = 50\n",
    "review_max_length = 512\n",
    "batch_size = 64\n",
    "dataloader = DataLoader(dataset, batch_size=batch_size)\n",
    "\n",
    "for x_summary, x_review, y in dataloader:\n",
    "    # split summary and review from tuple\n",
    "    # tokenize\n",
    "    x_summary = tokenizer.batch_encode_plus(x_summary, return_tensors='pt', max_length=summary_max_length, pad_to_max_length=True)\n",
    "    x_review = tokenizer.batch_encode_plus(x_summary, return_tensors='pt', max_length=review_max_length, pad_to_max_length=True)\n",
    "    \n",
    "    # output bert model hidden states , index 0 of output of model is hidden state of which the first hidden state vector represents the sentence vector\n",
    "    summary_hidden_state = summary_model(input_ids=x_summary['input_ids'], attention_mask=x_summary['attention_mask'])[0]#[:,0,:]\n",
    "    review_hidden_state = review_model(input_ids=x_review['input_ids'], attention_mask=x_review['attention_mask'])[0]#[:,0,:]\n",
    "    \n",
    "    print(summary_hidden_state.shape)\n",
    "    print(review_hidden_state.shape)\n",
    "    \n",
    "    break"
   ]
  },
  {
   "cell_type": "code",
   "execution_count": 57,
   "metadata": {},
   "outputs": [
    {
     "data": {
      "text/plain": [
       "torch.Size([16, 50])"
      ]
     },
     "execution_count": 57,
     "metadata": {},
     "output_type": "execute_result"
    }
   ],
   "source": [
    "x_summary['input_ids'].shape"
   ]
  },
  {
   "cell_type": "code",
   "execution_count": null,
   "metadata": {},
   "outputs": [],
   "source": []
  }
 ],
 "metadata": {
  "environment": {
   "name": "pytorch-gpu.1-4.m46",
   "type": "gcloud",
   "uri": "gcr.io/deeplearning-platform-release/pytorch-gpu.1-4:m46"
  },
  "kernelspec": {
   "display_name": "Python 3",
   "language": "python",
   "name": "python3"
  },
  "language_info": {
   "codemirror_mode": {
    "name": "ipython",
    "version": 3
   },
   "file_extension": ".py",
   "mimetype": "text/x-python",
   "name": "python",
   "nbconvert_exporter": "python",
   "pygments_lexer": "ipython3",
   "version": "3.7.6"
  }
 },
 "nbformat": 4,
 "nbformat_minor": 4
}
